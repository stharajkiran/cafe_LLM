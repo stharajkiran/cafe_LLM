{
 "cells": [
  {
   "cell_type": "code",
   "execution_count": 1,
   "id": "61be079e",
   "metadata": {},
   "outputs": [],
   "source": [
    "import pandas as pd\n",
    "import numpy as np\n",
    "from mlxtend.frequent_patterns import association_rules, apriori"
   ]
  },
  {
   "cell_type": "code",
   "execution_count": null,
   "id": "3c5eb779",
   "metadata": {},
   "outputs": [],
   "source": []
  },
  {
   "cell_type": "markdown",
   "id": "043e29b7",
   "metadata": {},
   "source": [
    "# Read Dataset"
   ]
  },
  {
   "cell_type": "code",
   "execution_count": 2,
   "id": "630c72ef",
   "metadata": {},
   "outputs": [
    {
     "data": {
      "application/vnd.microsoft.datawrangler.viewer.v0+json": {
       "columns": [
        {
         "name": "index",
         "rawType": "int64",
         "type": "integer"
        },
        {
         "name": "transaction_id",
         "rawType": "int64",
         "type": "integer"
        },
        {
         "name": "transaction_date",
         "rawType": "object",
         "type": "string"
        },
        {
         "name": "transaction_time",
         "rawType": "object",
         "type": "string"
        },
        {
         "name": "sales_outlet_id",
         "rawType": "int64",
         "type": "integer"
        },
        {
         "name": "staff_id",
         "rawType": "int64",
         "type": "integer"
        },
        {
         "name": "customer_id",
         "rawType": "int64",
         "type": "integer"
        },
        {
         "name": "instore_yn",
         "rawType": "object",
         "type": "string"
        },
        {
         "name": "order",
         "rawType": "int64",
         "type": "integer"
        },
        {
         "name": "line_item_id",
         "rawType": "int64",
         "type": "integer"
        },
        {
         "name": "product_id",
         "rawType": "int64",
         "type": "integer"
        },
        {
         "name": "quantity",
         "rawType": "int64",
         "type": "integer"
        },
        {
         "name": "line_item_amount",
         "rawType": "float64",
         "type": "float"
        },
        {
         "name": "unit_price",
         "rawType": "float64",
         "type": "float"
        },
        {
         "name": "promo_item_yn",
         "rawType": "object",
         "type": "string"
        }
       ],
       "ref": "8d1da0a5-fc4c-476b-a4b4-95c5c7cde15f",
       "rows": [
        [
         "0",
         "7",
         "2019-04-01",
         "12:04:43",
         "3",
         "12",
         "558",
         "N",
         "1",
         "1",
         "52",
         "1",
         "2.5",
         "2.5",
         "N"
        ],
        [
         "1",
         "11",
         "2019-04-01",
         "15:54:39",
         "3",
         "17",
         "781",
         "N",
         "1",
         "1",
         "27",
         "2",
         "7.0",
         "3.5",
         "N"
        ],
        [
         "2",
         "19",
         "2019-04-01",
         "14:34:59",
         "3",
         "17",
         "788",
         "Y",
         "1",
         "1",
         "46",
         "2",
         "5.0",
         "2.5",
         "N"
        ],
        [
         "3",
         "32",
         "2019-04-01",
         "16:06:04",
         "3",
         "12",
         "683",
         "N",
         "1",
         "1",
         "23",
         "2",
         "5.0",
         "2.5",
         "N"
        ],
        [
         "4",
         "33",
         "2019-04-01",
         "19:18:37",
         "3",
         "17",
         "99",
         "Y",
         "1",
         "1",
         "34",
         "1",
         "2.45",
         "2.45",
         "N"
        ]
       ],
       "shape": {
        "columns": 14,
        "rows": 5
       }
      },
      "text/html": [
       "<div>\n",
       "<style scoped>\n",
       "    .dataframe tbody tr th:only-of-type {\n",
       "        vertical-align: middle;\n",
       "    }\n",
       "\n",
       "    .dataframe tbody tr th {\n",
       "        vertical-align: top;\n",
       "    }\n",
       "\n",
       "    .dataframe thead th {\n",
       "        text-align: right;\n",
       "    }\n",
       "</style>\n",
       "<table border=\"1\" class=\"dataframe\">\n",
       "  <thead>\n",
       "    <tr style=\"text-align: right;\">\n",
       "      <th></th>\n",
       "      <th>transaction_id</th>\n",
       "      <th>transaction_date</th>\n",
       "      <th>transaction_time</th>\n",
       "      <th>sales_outlet_id</th>\n",
       "      <th>staff_id</th>\n",
       "      <th>customer_id</th>\n",
       "      <th>instore_yn</th>\n",
       "      <th>order</th>\n",
       "      <th>line_item_id</th>\n",
       "      <th>product_id</th>\n",
       "      <th>quantity</th>\n",
       "      <th>line_item_amount</th>\n",
       "      <th>unit_price</th>\n",
       "      <th>promo_item_yn</th>\n",
       "    </tr>\n",
       "  </thead>\n",
       "  <tbody>\n",
       "    <tr>\n",
       "      <th>0</th>\n",
       "      <td>7</td>\n",
       "      <td>2019-04-01</td>\n",
       "      <td>12:04:43</td>\n",
       "      <td>3</td>\n",
       "      <td>12</td>\n",
       "      <td>558</td>\n",
       "      <td>N</td>\n",
       "      <td>1</td>\n",
       "      <td>1</td>\n",
       "      <td>52</td>\n",
       "      <td>1</td>\n",
       "      <td>2.50</td>\n",
       "      <td>2.50</td>\n",
       "      <td>N</td>\n",
       "    </tr>\n",
       "    <tr>\n",
       "      <th>1</th>\n",
       "      <td>11</td>\n",
       "      <td>2019-04-01</td>\n",
       "      <td>15:54:39</td>\n",
       "      <td>3</td>\n",
       "      <td>17</td>\n",
       "      <td>781</td>\n",
       "      <td>N</td>\n",
       "      <td>1</td>\n",
       "      <td>1</td>\n",
       "      <td>27</td>\n",
       "      <td>2</td>\n",
       "      <td>7.00</td>\n",
       "      <td>3.50</td>\n",
       "      <td>N</td>\n",
       "    </tr>\n",
       "    <tr>\n",
       "      <th>2</th>\n",
       "      <td>19</td>\n",
       "      <td>2019-04-01</td>\n",
       "      <td>14:34:59</td>\n",
       "      <td>3</td>\n",
       "      <td>17</td>\n",
       "      <td>788</td>\n",
       "      <td>Y</td>\n",
       "      <td>1</td>\n",
       "      <td>1</td>\n",
       "      <td>46</td>\n",
       "      <td>2</td>\n",
       "      <td>5.00</td>\n",
       "      <td>2.50</td>\n",
       "      <td>N</td>\n",
       "    </tr>\n",
       "    <tr>\n",
       "      <th>3</th>\n",
       "      <td>32</td>\n",
       "      <td>2019-04-01</td>\n",
       "      <td>16:06:04</td>\n",
       "      <td>3</td>\n",
       "      <td>12</td>\n",
       "      <td>683</td>\n",
       "      <td>N</td>\n",
       "      <td>1</td>\n",
       "      <td>1</td>\n",
       "      <td>23</td>\n",
       "      <td>2</td>\n",
       "      <td>5.00</td>\n",
       "      <td>2.50</td>\n",
       "      <td>N</td>\n",
       "    </tr>\n",
       "    <tr>\n",
       "      <th>4</th>\n",
       "      <td>33</td>\n",
       "      <td>2019-04-01</td>\n",
       "      <td>19:18:37</td>\n",
       "      <td>3</td>\n",
       "      <td>17</td>\n",
       "      <td>99</td>\n",
       "      <td>Y</td>\n",
       "      <td>1</td>\n",
       "      <td>1</td>\n",
       "      <td>34</td>\n",
       "      <td>1</td>\n",
       "      <td>2.45</td>\n",
       "      <td>2.45</td>\n",
       "      <td>N</td>\n",
       "    </tr>\n",
       "  </tbody>\n",
       "</table>\n",
       "</div>"
      ],
      "text/plain": [
       "   transaction_id transaction_date transaction_time  sales_outlet_id  \\\n",
       "0               7       2019-04-01         12:04:43                3   \n",
       "1              11       2019-04-01         15:54:39                3   \n",
       "2              19       2019-04-01         14:34:59                3   \n",
       "3              32       2019-04-01         16:06:04                3   \n",
       "4              33       2019-04-01         19:18:37                3   \n",
       "\n",
       "   staff_id  customer_id instore_yn  order  line_item_id  product_id  \\\n",
       "0        12          558          N      1             1          52   \n",
       "1        17          781          N      1             1          27   \n",
       "2        17          788          Y      1             1          46   \n",
       "3        12          683          N      1             1          23   \n",
       "4        17           99          Y      1             1          34   \n",
       "\n",
       "   quantity  line_item_amount  unit_price promo_item_yn  \n",
       "0         1              2.50        2.50             N  \n",
       "1         2              7.00        3.50             N  \n",
       "2         2              5.00        2.50             N  \n",
       "3         2              5.00        2.50             N  \n",
       "4         1              2.45        2.45             N  "
      ]
     },
     "execution_count": 2,
     "metadata": {},
     "output_type": "execute_result"
    }
   ],
   "source": [
    "sales_reciepts = pd.read_csv ('dataset/201904 sales reciepts.csv')\n",
    "sales_reciepts.head()"
   ]
  },
  {
   "cell_type": "code",
   "execution_count": null,
   "id": "1d451fd3",
   "metadata": {},
   "outputs": [],
   "source": []
  },
  {
   "cell_type": "code",
   "execution_count": 3,
   "id": "15083c94",
   "metadata": {},
   "outputs": [
    {
     "data": {
      "application/vnd.microsoft.datawrangler.viewer.v0+json": {
       "columns": [
        {
         "name": "index",
         "rawType": "int64",
         "type": "integer"
        },
        {
         "name": "product_id",
         "rawType": "int64",
         "type": "integer"
        },
        {
         "name": "product_group",
         "rawType": "object",
         "type": "string"
        },
        {
         "name": "product_category",
         "rawType": "object",
         "type": "string"
        },
        {
         "name": "product_type",
         "rawType": "object",
         "type": "string"
        },
        {
         "name": "product",
         "rawType": "object",
         "type": "string"
        },
        {
         "name": "product_description",
         "rawType": "object",
         "type": "string"
        },
        {
         "name": "unit_of_measure",
         "rawType": "object",
         "type": "string"
        },
        {
         "name": "current_wholesale_price",
         "rawType": "float64",
         "type": "float"
        },
        {
         "name": "current_retail_price",
         "rawType": "object",
         "type": "string"
        },
        {
         "name": "tax_exempt_yn",
         "rawType": "object",
         "type": "string"
        },
        {
         "name": "promo_yn",
         "rawType": "object",
         "type": "string"
        },
        {
         "name": "new_product_yn",
         "rawType": "object",
         "type": "string"
        }
       ],
       "ref": "1fcb7be1-5407-4b40-abd1-a1db0b14be63",
       "rows": [
        [
         "0",
         "1",
         "Whole Bean/Teas",
         "Coffee beans",
         "Organic Beans",
         "Brazilian - Organic",
         "It's like Carnival in a cup. Clean and smooth.",
         "12 oz",
         "14.4",
         "$18.00 ",
         "Y",
         "N",
         "N"
        ],
        [
         "1",
         "2",
         "Whole Bean/Teas",
         "Coffee beans",
         "House blend Beans",
         "Our Old Time Diner Blend",
         "Out packed blend of beans that is reminiscent of the cup of coffee you used to get at a diner. ",
         "12 oz",
         "14.4",
         "$18.00 ",
         "Y",
         "N",
         "N"
        ],
        [
         "2",
         "3",
         "Whole Bean/Teas",
         "Coffee beans",
         "Espresso Beans",
         "Espresso Roast",
         "Our house blend for a good espresso shot.",
         "1 lb",
         "11.8",
         "$14.75 ",
         "Y",
         "N",
         "N"
        ],
        [
         "3",
         "4",
         "Whole Bean/Teas",
         "Coffee beans",
         "Espresso Beans",
         "Primo Espresso Roast",
         "Our primium single source of hand roasted beans.",
         "1 lb",
         "16.36",
         "$20.45 ",
         "Y",
         "N",
         "N"
        ],
        [
         "4",
         "5",
         "Whole Bean/Teas",
         "Coffee beans",
         "Gourmet Beans",
         "Columbian Medium Roast",
         "A smooth cup of coffee any time of day. ",
         "1 lb",
         "12.0",
         "$15.00 ",
         "Y",
         "N",
         "N"
        ]
       ],
       "shape": {
        "columns": 12,
        "rows": 5
       }
      },
      "text/html": [
       "<div>\n",
       "<style scoped>\n",
       "    .dataframe tbody tr th:only-of-type {\n",
       "        vertical-align: middle;\n",
       "    }\n",
       "\n",
       "    .dataframe tbody tr th {\n",
       "        vertical-align: top;\n",
       "    }\n",
       "\n",
       "    .dataframe thead th {\n",
       "        text-align: right;\n",
       "    }\n",
       "</style>\n",
       "<table border=\"1\" class=\"dataframe\">\n",
       "  <thead>\n",
       "    <tr style=\"text-align: right;\">\n",
       "      <th></th>\n",
       "      <th>product_id</th>\n",
       "      <th>product_group</th>\n",
       "      <th>product_category</th>\n",
       "      <th>product_type</th>\n",
       "      <th>product</th>\n",
       "      <th>product_description</th>\n",
       "      <th>unit_of_measure</th>\n",
       "      <th>current_wholesale_price</th>\n",
       "      <th>current_retail_price</th>\n",
       "      <th>tax_exempt_yn</th>\n",
       "      <th>promo_yn</th>\n",
       "      <th>new_product_yn</th>\n",
       "    </tr>\n",
       "  </thead>\n",
       "  <tbody>\n",
       "    <tr>\n",
       "      <th>0</th>\n",
       "      <td>1</td>\n",
       "      <td>Whole Bean/Teas</td>\n",
       "      <td>Coffee beans</td>\n",
       "      <td>Organic Beans</td>\n",
       "      <td>Brazilian - Organic</td>\n",
       "      <td>It's like Carnival in a cup. Clean and smooth.</td>\n",
       "      <td>12 oz</td>\n",
       "      <td>14.40</td>\n",
       "      <td>$18.00</td>\n",
       "      <td>Y</td>\n",
       "      <td>N</td>\n",
       "      <td>N</td>\n",
       "    </tr>\n",
       "    <tr>\n",
       "      <th>1</th>\n",
       "      <td>2</td>\n",
       "      <td>Whole Bean/Teas</td>\n",
       "      <td>Coffee beans</td>\n",
       "      <td>House blend Beans</td>\n",
       "      <td>Our Old Time Diner Blend</td>\n",
       "      <td>Out packed blend of beans that is reminiscent ...</td>\n",
       "      <td>12 oz</td>\n",
       "      <td>14.40</td>\n",
       "      <td>$18.00</td>\n",
       "      <td>Y</td>\n",
       "      <td>N</td>\n",
       "      <td>N</td>\n",
       "    </tr>\n",
       "    <tr>\n",
       "      <th>2</th>\n",
       "      <td>3</td>\n",
       "      <td>Whole Bean/Teas</td>\n",
       "      <td>Coffee beans</td>\n",
       "      <td>Espresso Beans</td>\n",
       "      <td>Espresso Roast</td>\n",
       "      <td>Our house blend for a good espresso shot.</td>\n",
       "      <td>1 lb</td>\n",
       "      <td>11.80</td>\n",
       "      <td>$14.75</td>\n",
       "      <td>Y</td>\n",
       "      <td>N</td>\n",
       "      <td>N</td>\n",
       "    </tr>\n",
       "    <tr>\n",
       "      <th>3</th>\n",
       "      <td>4</td>\n",
       "      <td>Whole Bean/Teas</td>\n",
       "      <td>Coffee beans</td>\n",
       "      <td>Espresso Beans</td>\n",
       "      <td>Primo Espresso Roast</td>\n",
       "      <td>Our primium single source of hand roasted beans.</td>\n",
       "      <td>1 lb</td>\n",
       "      <td>16.36</td>\n",
       "      <td>$20.45</td>\n",
       "      <td>Y</td>\n",
       "      <td>N</td>\n",
       "      <td>N</td>\n",
       "    </tr>\n",
       "    <tr>\n",
       "      <th>4</th>\n",
       "      <td>5</td>\n",
       "      <td>Whole Bean/Teas</td>\n",
       "      <td>Coffee beans</td>\n",
       "      <td>Gourmet Beans</td>\n",
       "      <td>Columbian Medium Roast</td>\n",
       "      <td>A smooth cup of coffee any time of day.</td>\n",
       "      <td>1 lb</td>\n",
       "      <td>12.00</td>\n",
       "      <td>$15.00</td>\n",
       "      <td>Y</td>\n",
       "      <td>N</td>\n",
       "      <td>N</td>\n",
       "    </tr>\n",
       "  </tbody>\n",
       "</table>\n",
       "</div>"
      ],
      "text/plain": [
       "   product_id    product_group product_category       product_type  \\\n",
       "0           1  Whole Bean/Teas     Coffee beans      Organic Beans   \n",
       "1           2  Whole Bean/Teas     Coffee beans  House blend Beans   \n",
       "2           3  Whole Bean/Teas     Coffee beans     Espresso Beans   \n",
       "3           4  Whole Bean/Teas     Coffee beans     Espresso Beans   \n",
       "4           5  Whole Bean/Teas     Coffee beans      Gourmet Beans   \n",
       "\n",
       "                    product  \\\n",
       "0       Brazilian - Organic   \n",
       "1  Our Old Time Diner Blend   \n",
       "2            Espresso Roast   \n",
       "3      Primo Espresso Roast   \n",
       "4    Columbian Medium Roast   \n",
       "\n",
       "                                 product_description unit_of_measure  \\\n",
       "0     It's like Carnival in a cup. Clean and smooth.           12 oz   \n",
       "1  Out packed blend of beans that is reminiscent ...           12 oz   \n",
       "2          Our house blend for a good espresso shot.            1 lb   \n",
       "3   Our primium single source of hand roasted beans.            1 lb   \n",
       "4           A smooth cup of coffee any time of day.             1 lb   \n",
       "\n",
       "   current_wholesale_price current_retail_price tax_exempt_yn promo_yn  \\\n",
       "0                    14.40              $18.00              Y        N   \n",
       "1                    14.40              $18.00              Y        N   \n",
       "2                    11.80              $14.75              Y        N   \n",
       "3                    16.36              $20.45              Y        N   \n",
       "4                    12.00              $15.00              Y        N   \n",
       "\n",
       "  new_product_yn  \n",
       "0              N  \n",
       "1              N  \n",
       "2              N  \n",
       "3              N  \n",
       "4              N  "
      ]
     },
     "execution_count": 3,
     "metadata": {},
     "output_type": "execute_result"
    }
   ],
   "source": [
    "product = pd.read_csv ('dataset/product.csv')\n",
    "product.head()"
   ]
  },
  {
   "cell_type": "code",
   "execution_count": null,
   "id": "ceb93a3a",
   "metadata": {},
   "outputs": [],
   "source": []
  },
  {
   "cell_type": "markdown",
   "id": "9383800c",
   "metadata": {},
   "source": [
    "# Data Wrangling"
   ]
  },
  {
   "cell_type": "markdown",
   "id": "b01693c5",
   "metadata": {},
   "source": [
    "### Merge Data"
   ]
  },
  {
   "cell_type": "code",
   "execution_count": 11,
   "id": "17be8381",
   "metadata": {},
   "outputs": [
    {
     "data": {
      "application/vnd.microsoft.datawrangler.viewer.v0+json": {
       "columns": [
        {
         "name": "index",
         "rawType": "int64",
         "type": "integer"
        },
        {
         "name": "transaction_id",
         "rawType": "int64",
         "type": "integer"
        },
        {
         "name": "transaction_date",
         "rawType": "object",
         "type": "string"
        },
        {
         "name": "sales_outlet_id",
         "rawType": "int64",
         "type": "integer"
        },
        {
         "name": "customer_id",
         "rawType": "int64",
         "type": "integer"
        },
        {
         "name": "product_id",
         "rawType": "int64",
         "type": "integer"
        },
        {
         "name": "quantity",
         "rawType": "int64",
         "type": "integer"
        },
        {
         "name": "product_category",
         "rawType": "object",
         "type": "string"
        },
        {
         "name": "product",
         "rawType": "object",
         "type": "string"
        }
       ],
       "ref": "b842c0f0-74bd-43c6-9f30-c6db859641e2",
       "rows": [
        [
         "0",
         "7",
         "2019-04-01",
         "3",
         "558",
         "52",
         "1",
         "Tea",
         "Traditional Blend Chai Rg"
        ],
        [
         "1",
         "11",
         "2019-04-01",
         "3",
         "781",
         "27",
         "2",
         "Coffee",
         "Brazilian Lg"
        ],
        [
         "2",
         "19",
         "2019-04-01",
         "3",
         "788",
         "46",
         "2",
         "Tea",
         "Serenity Green Tea Rg"
        ],
        [
         "3",
         "32",
         "2019-04-01",
         "3",
         "683",
         "23",
         "2",
         "Coffee",
         "Our Old Time Diner Blend Rg"
        ],
        [
         "4",
         "33",
         "2019-04-01",
         "3",
         "99",
         "34",
         "1",
         "Coffee",
         "Jamaican Coffee River Sm"
        ]
       ],
       "shape": {
        "columns": 8,
        "rows": 5
       }
      },
      "text/html": [
       "<div>\n",
       "<style scoped>\n",
       "    .dataframe tbody tr th:only-of-type {\n",
       "        vertical-align: middle;\n",
       "    }\n",
       "\n",
       "    .dataframe tbody tr th {\n",
       "        vertical-align: top;\n",
       "    }\n",
       "\n",
       "    .dataframe thead th {\n",
       "        text-align: right;\n",
       "    }\n",
       "</style>\n",
       "<table border=\"1\" class=\"dataframe\">\n",
       "  <thead>\n",
       "    <tr style=\"text-align: right;\">\n",
       "      <th></th>\n",
       "      <th>transaction_id</th>\n",
       "      <th>transaction_date</th>\n",
       "      <th>sales_outlet_id</th>\n",
       "      <th>customer_id</th>\n",
       "      <th>product_id</th>\n",
       "      <th>quantity</th>\n",
       "      <th>product_category</th>\n",
       "      <th>product</th>\n",
       "    </tr>\n",
       "  </thead>\n",
       "  <tbody>\n",
       "    <tr>\n",
       "      <th>0</th>\n",
       "      <td>7</td>\n",
       "      <td>2019-04-01</td>\n",
       "      <td>3</td>\n",
       "      <td>558</td>\n",
       "      <td>52</td>\n",
       "      <td>1</td>\n",
       "      <td>Tea</td>\n",
       "      <td>Traditional Blend Chai Rg</td>\n",
       "    </tr>\n",
       "    <tr>\n",
       "      <th>1</th>\n",
       "      <td>11</td>\n",
       "      <td>2019-04-01</td>\n",
       "      <td>3</td>\n",
       "      <td>781</td>\n",
       "      <td>27</td>\n",
       "      <td>2</td>\n",
       "      <td>Coffee</td>\n",
       "      <td>Brazilian Lg</td>\n",
       "    </tr>\n",
       "    <tr>\n",
       "      <th>2</th>\n",
       "      <td>19</td>\n",
       "      <td>2019-04-01</td>\n",
       "      <td>3</td>\n",
       "      <td>788</td>\n",
       "      <td>46</td>\n",
       "      <td>2</td>\n",
       "      <td>Tea</td>\n",
       "      <td>Serenity Green Tea Rg</td>\n",
       "    </tr>\n",
       "    <tr>\n",
       "      <th>3</th>\n",
       "      <td>32</td>\n",
       "      <td>2019-04-01</td>\n",
       "      <td>3</td>\n",
       "      <td>683</td>\n",
       "      <td>23</td>\n",
       "      <td>2</td>\n",
       "      <td>Coffee</td>\n",
       "      <td>Our Old Time Diner Blend Rg</td>\n",
       "    </tr>\n",
       "    <tr>\n",
       "      <th>4</th>\n",
       "      <td>33</td>\n",
       "      <td>2019-04-01</td>\n",
       "      <td>3</td>\n",
       "      <td>99</td>\n",
       "      <td>34</td>\n",
       "      <td>1</td>\n",
       "      <td>Coffee</td>\n",
       "      <td>Jamaican Coffee River Sm</td>\n",
       "    </tr>\n",
       "  </tbody>\n",
       "</table>\n",
       "</div>"
      ],
      "text/plain": [
       "   transaction_id transaction_date  sales_outlet_id  customer_id  product_id  \\\n",
       "0               7       2019-04-01                3          558          52   \n",
       "1              11       2019-04-01                3          781          27   \n",
       "2              19       2019-04-01                3          788          46   \n",
       "3              32       2019-04-01                3          683          23   \n",
       "4              33       2019-04-01                3           99          34   \n",
       "\n",
       "   quantity product_category                      product  \n",
       "0         1              Tea    Traditional Blend Chai Rg  \n",
       "1         2           Coffee                 Brazilian Lg  \n",
       "2         2              Tea        Serenity Green Tea Rg  \n",
       "3         2           Coffee  Our Old Time Diner Blend Rg  \n",
       "4         1           Coffee     Jamaican Coffee River Sm  "
      ]
     },
     "execution_count": 11,
     "metadata": {},
     "output_type": "execute_result"
    }
   ],
   "source": [
    "dataset = pd.merge(sales_reciepts[['transaction_id','transaction_date', 'sales_outlet_id', 'customer_id', 'product_id', 'quantity']],\n",
    "                      product[['product_id', 'product_category', 'product']],\n",
    "                      on ='product_id', how = 'left' )\n",
    "dataset.head()"
   ]
  },
  {
   "cell_type": "markdown",
   "id": "5c905745",
   "metadata": {},
   "source": [
    "### Remove Sizes"
   ]
  },
  {
   "cell_type": "code",
   "execution_count": 14,
   "id": "58ea2a98",
   "metadata": {},
   "outputs": [
    {
     "data": {
      "application/vnd.microsoft.datawrangler.viewer.v0+json": {
       "columns": [
        {
         "name": "index",
         "rawType": "int64",
         "type": "integer"
        },
        {
         "name": "product",
         "rawType": "object",
         "type": "string"
        }
       ],
       "ref": "896e583d-e657-432e-8ff0-e061aea969d0",
       "rows": [
        [
         "0",
         "Traditional Blend Chai Rg"
        ],
        [
         "1",
         "Brazilian Lg"
        ],
        [
         "2",
         "Serenity Green Tea Rg"
        ],
        [
         "3",
         "Our Old Time Diner Blend Rg"
        ],
        [
         "4",
         "Jamaican Coffee River Sm"
        ],
        [
         "5",
         "Ethiopia Rg"
        ],
        [
         "6",
         "English Breakfast Lg"
        ],
        [
         "7",
         "Sustainably Grown Organic Rg"
        ],
        [
         "8",
         "Earl Grey Lg"
        ],
        [
         "9",
         "English Breakfast Lg"
        ],
        [
         "10",
         "Jamaican Coffee River Rg"
        ],
        [
         "11",
         "Serenity Green Tea Lg"
        ],
        [
         "12",
         "Brazilian Sm"
        ],
        [
         "13",
         "Our Old Time Diner Blend Rg"
        ],
        [
         "14",
         "English Breakfast Rg"
        ],
        [
         "15",
         "Traditional Blend Chai Lg"
        ],
        [
         "16",
         "Cappuccino"
        ],
        [
         "17",
         "Espresso shot"
        ],
        [
         "18",
         "Sustainably Grown Organic Rg"
        ],
        [
         "19",
         "Traditional Blend Chai Lg"
        ],
        [
         "20",
         "Cappuccino Lg"
        ],
        [
         "21",
         "Latte"
        ],
        [
         "22",
         "Cappuccino"
        ],
        [
         "23",
         "Cappuccino"
        ],
        [
         "24",
         "Latte"
        ],
        [
         "25",
         "Earl Grey Rg"
        ],
        [
         "26",
         "Dark chocolate Lg"
        ],
        [
         "27",
         "Columbian Medium Roast Sm"
        ],
        [
         "28",
         "Jamaican Coffee River Sm"
        ],
        [
         "29",
         "Oatmeal Scone"
        ],
        [
         "30",
         "Morning Sunrise Chai Lg"
        ],
        [
         "31",
         "Morning Sunrise Chai Rg"
        ],
        [
         "32",
         "Serenity Green Tea Lg"
        ],
        [
         "33",
         "Peppermint Lg"
        ],
        [
         "34",
         "Cappuccino Lg"
        ],
        [
         "35",
         "Jumbo Savory Scone"
        ],
        [
         "36",
         "Espresso shot"
        ],
        [
         "37",
         "Earl Grey Rg"
        ],
        [
         "38",
         "Lemon Grass Lg"
        ],
        [
         "39",
         "Latte"
        ],
        [
         "40",
         "Cappuccino"
        ],
        [
         "41",
         "Columbian Medium Roast Sm"
        ],
        [
         "42",
         "Cappuccino Lg"
        ],
        [
         "43",
         "Our Old Time Diner Blend Rg"
        ],
        [
         "44",
         "Ethiopia Rg"
        ],
        [
         "45",
         "Traditional Blend Chai Rg"
        ],
        [
         "46",
         "Sustainably Grown Organic Lg"
        ],
        [
         "47",
         "Dark chocolate Rg"
        ],
        [
         "48",
         "Lemon Grass Rg"
        ],
        [
         "49",
         "Traditional Blend Chai Lg"
        ]
       ],
       "shape": {
        "columns": 1,
        "rows": 49894
       }
      },
      "text/plain": [
       "0          Traditional Blend Chai Rg\n",
       "1                       Brazilian Lg\n",
       "2              Serenity Green Tea Rg\n",
       "3        Our Old Time Diner Blend Rg\n",
       "4           Jamaican Coffee River Sm\n",
       "                    ...             \n",
       "49889      Columbian Medium Roast Lg\n",
       "49890                   Brazilian Sm\n",
       "49891                    Ethiopia Sm\n",
       "49892                  Peppermint Rg\n",
       "49893                      Croissant\n",
       "Name: product, Length: 49894, dtype: object"
      ]
     },
     "execution_count": 14,
     "metadata": {},
     "output_type": "execute_result"
    }
   ],
   "source": [
    "dataset['product']"
   ]
  },
  {
   "cell_type": "code",
   "execution_count": 12,
   "id": "8626100d",
   "metadata": {},
   "outputs": [
    {
     "data": {
      "text/plain": [
       "array(['Dark chocolate Lg', 'Dark chocolate Rg', 'Dark chocolate'],\n",
       "      dtype=object)"
      ]
     },
     "execution_count": 12,
     "metadata": {},
     "output_type": "execute_result"
    }
   ],
   "source": [
    "dataset[dataset['product'].str.contains('Dark chocolate')]['product'].unique()"
   ]
  },
  {
   "cell_type": "code",
   "execution_count": 15,
   "id": "05dfb2ab",
   "metadata": {},
   "outputs": [
    {
     "data": {
      "text/plain": [
       "80"
      ]
     },
     "execution_count": 15,
     "metadata": {},
     "output_type": "execute_result"
    }
   ],
   "source": [
    "dataset['product'].nunique()"
   ]
  },
  {
   "cell_type": "code",
   "execution_count": 16,
   "id": "5aa2a3e5",
   "metadata": {},
   "outputs": [],
   "source": [
    "dataset['product']= dataset['product'].str.replace(' Rg','')\n",
    "dataset['product']= dataset['product'].str.replace(' Sm','')\n",
    "dataset['product']= dataset['product'].str.replace(' Lg','')"
   ]
  },
  {
   "cell_type": "code",
   "execution_count": 17,
   "id": "2e3fc6a2",
   "metadata": {},
   "outputs": [
    {
     "data": {
      "text/plain": [
       "45"
      ]
     },
     "execution_count": 17,
     "metadata": {},
     "output_type": "execute_result"
    }
   ],
   "source": [
    "dataset['product'].nunique()"
   ]
  },
  {
   "cell_type": "code",
   "execution_count": 18,
   "id": "4ce96ad7",
   "metadata": {},
   "outputs": [
    {
     "name": "stdout",
     "output_type": "stream",
     "text": [
      "['Traditional Blend Chai' 'Brazilian' 'Serenity Green Tea'\n",
      " 'Our Old Time Diner Blend' 'Jamaican Coffee River' 'Ethiopia'\n",
      " 'English Breakfast' 'Sustainably Grown Organic' 'Earl Grey' 'Cappuccino'\n",
      " 'Espresso shot' 'Latte' 'Dark chocolate' 'Columbian Medium Roast'\n",
      " 'Oatmeal Scone' 'Morning Sunrise Chai' 'Peppermint' 'Jumbo Savory Scone'\n",
      " 'Lemon Grass' 'Chocolate Chip Biscotti' 'Spicy Eye Opener Chai'\n",
      " 'Ginger Biscotti' 'Chocolate Croissant' 'Hazelnut Biscotti'\n",
      " 'Cranberry Scone' 'Scottish Cream Scone ' 'Croissant' 'Almond Croissant'\n",
      " 'Ginger Scone' 'Ouro Brasileiro shot' 'Organic Decaf Blend'\n",
      " 'Chocolate syrup' 'Hazelnut syrup' 'Carmel syrup'\n",
      " 'Sugar Free Vanilla syrup' 'Jamacian Coffee River'\n",
      " 'Guatemalan Sustainably Grown' 'Civet Cat' 'Chili Mayan'\n",
      " 'Primo Espresso Roast' 'Brazilian - Organic' 'I Need My Bean! Diner mug'\n",
      " 'Espresso Roast' 'I Need My Bean! T-shirt' 'I Need My Bean! Latte cup']\n"
     ]
    }
   ],
   "source": [
    "print(dataset['product'].unique())"
   ]
  },
  {
   "cell_type": "markdown",
   "id": "aa13702b",
   "metadata": {},
   "source": [
    "### Choose Product Subset"
   ]
  },
  {
   "cell_type": "code",
   "execution_count": 19,
   "id": "3b690ef2",
   "metadata": {},
   "outputs": [],
   "source": [
    "products_to_take = ['Cappuccino', 'Latte', 'Espresso shot',  \\\n",
    "                     'Dark chocolate','Sugar Free Vanilla syrup', 'Chocolate syrup',\\\n",
    "                    'Carmel syrup', 'Hazelnut syrup', 'Ginger Scone',  \\\n",
    "                    'Chocolate Croissant', 'Jumbo Savory Scone', 'Cranberry Scone', 'Hazelnut Biscotti',\\\n",
    "                    'Croissant', 'Almond Croissant', 'Oatmeal Scone', 'Chocolate Chip Biscotti',\\\n",
    "                    'Ginger Biscotti',\\\n",
    "                   ]"
   ]
  },
  {
   "cell_type": "code",
   "execution_count": 20,
   "id": "a86989fd",
   "metadata": {},
   "outputs": [],
   "source": [
    "dataset = dataset[dataset['product'].isin(products_to_take)]"
   ]
  },
  {
   "cell_type": "code",
   "execution_count": 21,
   "id": "f3eb6e08",
   "metadata": {},
   "outputs": [
    {
     "data": {
      "text/plain": [
       "18"
      ]
     },
     "execution_count": 21,
     "metadata": {},
     "output_type": "execute_result"
    }
   ],
   "source": [
    "dataset['product'].nunique()"
   ]
  },
  {
   "cell_type": "code",
   "execution_count": 22,
   "id": "8e615e2b",
   "metadata": {},
   "outputs": [
    {
     "data": {
      "application/vnd.microsoft.datawrangler.viewer.v0+json": {
       "columns": [
        {
         "name": "index",
         "rawType": "int64",
         "type": "integer"
        },
        {
         "name": "product",
         "rawType": "object",
         "type": "string"
        },
        {
         "name": "product_category",
         "rawType": "object",
         "type": "string"
        }
       ],
       "ref": "efe3b81e-e2ec-4fa2-9cff-6af0f1984751",
       "rows": [
        [
         "0",
         "Cappuccino",
         "Coffee"
        ],
        [
         "1",
         "Espresso shot",
         "Coffee"
        ],
        [
         "2",
         "Latte",
         "Coffee"
        ],
        [
         "3",
         "Dark chocolate",
         "Drinking Chocolate"
        ],
        [
         "4",
         "Oatmeal Scone",
         "Bakery"
        ],
        [
         "5",
         "Jumbo Savory Scone",
         "Bakery"
        ],
        [
         "6",
         "Chocolate Chip Biscotti",
         "Bakery"
        ],
        [
         "7",
         "Ginger Biscotti",
         "Bakery"
        ],
        [
         "8",
         "Chocolate Croissant",
         "Bakery"
        ],
        [
         "9",
         "Hazelnut Biscotti",
         "Bakery"
        ],
        [
         "10",
         "Cranberry Scone",
         "Bakery"
        ],
        [
         "11",
         "Croissant",
         "Bakery"
        ],
        [
         "12",
         "Almond Croissant",
         "Bakery"
        ],
        [
         "13",
         "Ginger Scone",
         "Bakery"
        ],
        [
         "14",
         "Chocolate syrup",
         "Flavours"
        ],
        [
         "15",
         "Hazelnut syrup",
         "Flavours"
        ],
        [
         "16",
         "Carmel syrup",
         "Flavours"
        ],
        [
         "17",
         "Sugar Free Vanilla syrup",
         "Flavours"
        ],
        [
         "18",
         "Dark chocolate",
         "Packaged Chocolate"
        ]
       ],
       "shape": {
        "columns": 2,
        "rows": 19
       }
      },
      "text/html": [
       "<div>\n",
       "<style scoped>\n",
       "    .dataframe tbody tr th:only-of-type {\n",
       "        vertical-align: middle;\n",
       "    }\n",
       "\n",
       "    .dataframe tbody tr th {\n",
       "        vertical-align: top;\n",
       "    }\n",
       "\n",
       "    .dataframe thead th {\n",
       "        text-align: right;\n",
       "    }\n",
       "</style>\n",
       "<table border=\"1\" class=\"dataframe\">\n",
       "  <thead>\n",
       "    <tr style=\"text-align: right;\">\n",
       "      <th></th>\n",
       "      <th>product</th>\n",
       "      <th>product_category</th>\n",
       "    </tr>\n",
       "  </thead>\n",
       "  <tbody>\n",
       "    <tr>\n",
       "      <th>0</th>\n",
       "      <td>Cappuccino</td>\n",
       "      <td>Coffee</td>\n",
       "    </tr>\n",
       "    <tr>\n",
       "      <th>1</th>\n",
       "      <td>Espresso shot</td>\n",
       "      <td>Coffee</td>\n",
       "    </tr>\n",
       "    <tr>\n",
       "      <th>2</th>\n",
       "      <td>Latte</td>\n",
       "      <td>Coffee</td>\n",
       "    </tr>\n",
       "    <tr>\n",
       "      <th>3</th>\n",
       "      <td>Dark chocolate</td>\n",
       "      <td>Drinking Chocolate</td>\n",
       "    </tr>\n",
       "    <tr>\n",
       "      <th>4</th>\n",
       "      <td>Oatmeal Scone</td>\n",
       "      <td>Bakery</td>\n",
       "    </tr>\n",
       "    <tr>\n",
       "      <th>5</th>\n",
       "      <td>Jumbo Savory Scone</td>\n",
       "      <td>Bakery</td>\n",
       "    </tr>\n",
       "    <tr>\n",
       "      <th>6</th>\n",
       "      <td>Chocolate Chip Biscotti</td>\n",
       "      <td>Bakery</td>\n",
       "    </tr>\n",
       "    <tr>\n",
       "      <th>7</th>\n",
       "      <td>Ginger Biscotti</td>\n",
       "      <td>Bakery</td>\n",
       "    </tr>\n",
       "    <tr>\n",
       "      <th>8</th>\n",
       "      <td>Chocolate Croissant</td>\n",
       "      <td>Bakery</td>\n",
       "    </tr>\n",
       "    <tr>\n",
       "      <th>9</th>\n",
       "      <td>Hazelnut Biscotti</td>\n",
       "      <td>Bakery</td>\n",
       "    </tr>\n",
       "    <tr>\n",
       "      <th>10</th>\n",
       "      <td>Cranberry Scone</td>\n",
       "      <td>Bakery</td>\n",
       "    </tr>\n",
       "    <tr>\n",
       "      <th>11</th>\n",
       "      <td>Croissant</td>\n",
       "      <td>Bakery</td>\n",
       "    </tr>\n",
       "    <tr>\n",
       "      <th>12</th>\n",
       "      <td>Almond Croissant</td>\n",
       "      <td>Bakery</td>\n",
       "    </tr>\n",
       "    <tr>\n",
       "      <th>13</th>\n",
       "      <td>Ginger Scone</td>\n",
       "      <td>Bakery</td>\n",
       "    </tr>\n",
       "    <tr>\n",
       "      <th>14</th>\n",
       "      <td>Chocolate syrup</td>\n",
       "      <td>Flavours</td>\n",
       "    </tr>\n",
       "    <tr>\n",
       "      <th>15</th>\n",
       "      <td>Hazelnut syrup</td>\n",
       "      <td>Flavours</td>\n",
       "    </tr>\n",
       "    <tr>\n",
       "      <th>16</th>\n",
       "      <td>Carmel syrup</td>\n",
       "      <td>Flavours</td>\n",
       "    </tr>\n",
       "    <tr>\n",
       "      <th>17</th>\n",
       "      <td>Sugar Free Vanilla syrup</td>\n",
       "      <td>Flavours</td>\n",
       "    </tr>\n",
       "    <tr>\n",
       "      <th>18</th>\n",
       "      <td>Dark chocolate</td>\n",
       "      <td>Packaged Chocolate</td>\n",
       "    </tr>\n",
       "  </tbody>\n",
       "</table>\n",
       "</div>"
      ],
      "text/plain": [
       "                     product    product_category\n",
       "0                 Cappuccino              Coffee\n",
       "1              Espresso shot              Coffee\n",
       "2                      Latte              Coffee\n",
       "3             Dark chocolate  Drinking Chocolate\n",
       "4              Oatmeal Scone              Bakery\n",
       "5         Jumbo Savory Scone              Bakery\n",
       "6    Chocolate Chip Biscotti              Bakery\n",
       "7            Ginger Biscotti              Bakery\n",
       "8        Chocolate Croissant              Bakery\n",
       "9          Hazelnut Biscotti              Bakery\n",
       "10           Cranberry Scone              Bakery\n",
       "11                 Croissant              Bakery\n",
       "12          Almond Croissant              Bakery\n",
       "13              Ginger Scone              Bakery\n",
       "14           Chocolate syrup            Flavours\n",
       "15            Hazelnut syrup            Flavours\n",
       "16              Carmel syrup            Flavours\n",
       "17  Sugar Free Vanilla syrup            Flavours\n",
       "18            Dark chocolate  Packaged Chocolate"
      ]
     },
     "execution_count": 22,
     "metadata": {},
     "output_type": "execute_result"
    }
   ],
   "source": [
    "dataset[['product','product_category']].drop_duplicates().reset_index(drop=True)"
   ]
  },
  {
   "cell_type": "markdown",
   "id": "27b144de",
   "metadata": {},
   "source": [
    "### Clean Transactions"
   ]
  },
  {
   "cell_type": "code",
   "execution_count": 23,
   "id": "a83f3f42",
   "metadata": {},
   "outputs": [
    {
     "data": {
      "application/vnd.microsoft.datawrangler.viewer.v0+json": {
       "columns": [
        {
         "name": "index",
         "rawType": "int64",
         "type": "integer"
        },
        {
         "name": "transaction_id",
         "rawType": "int64",
         "type": "integer"
        },
        {
         "name": "transaction_date",
         "rawType": "object",
         "type": "string"
        },
        {
         "name": "sales_outlet_id",
         "rawType": "int64",
         "type": "integer"
        },
        {
         "name": "customer_id",
         "rawType": "int64",
         "type": "integer"
        },
        {
         "name": "product_id",
         "rawType": "int64",
         "type": "integer"
        },
        {
         "name": "quantity",
         "rawType": "int64",
         "type": "integer"
        },
        {
         "name": "product_category",
         "rawType": "object",
         "type": "string"
        },
        {
         "name": "product",
         "rawType": "object",
         "type": "string"
        }
       ],
       "ref": "97b79d92-5c83-4c2c-82f8-658587c56cf3",
       "rows": [
        [
         "16",
         "108",
         "2019-04-01",
         "3",
         "65",
         "40",
         "1",
         "Coffee",
         "Cappuccino"
        ],
        [
         "17",
         "112",
         "2019-04-01",
         "3",
         "90",
         "37",
         "2",
         "Coffee",
         "Espresso shot"
        ],
        [
         "20",
         "127",
         "2019-04-01",
         "3",
         "116",
         "41",
         "2",
         "Coffee",
         "Cappuccino"
        ],
        [
         "21",
         "134",
         "2019-04-01",
         "3",
         "189",
         "38",
         "2",
         "Coffee",
         "Latte"
        ],
        [
         "22",
         "135",
         "2019-04-01",
         "3",
         "131",
         "40",
         "1",
         "Coffee",
         "Cappuccino"
        ]
       ],
       "shape": {
        "columns": 8,
        "rows": 5
       }
      },
      "text/html": [
       "<div>\n",
       "<style scoped>\n",
       "    .dataframe tbody tr th:only-of-type {\n",
       "        vertical-align: middle;\n",
       "    }\n",
       "\n",
       "    .dataframe tbody tr th {\n",
       "        vertical-align: top;\n",
       "    }\n",
       "\n",
       "    .dataframe thead th {\n",
       "        text-align: right;\n",
       "    }\n",
       "</style>\n",
       "<table border=\"1\" class=\"dataframe\">\n",
       "  <thead>\n",
       "    <tr style=\"text-align: right;\">\n",
       "      <th></th>\n",
       "      <th>transaction_id</th>\n",
       "      <th>transaction_date</th>\n",
       "      <th>sales_outlet_id</th>\n",
       "      <th>customer_id</th>\n",
       "      <th>product_id</th>\n",
       "      <th>quantity</th>\n",
       "      <th>product_category</th>\n",
       "      <th>product</th>\n",
       "    </tr>\n",
       "  </thead>\n",
       "  <tbody>\n",
       "    <tr>\n",
       "      <th>16</th>\n",
       "      <td>108</td>\n",
       "      <td>2019-04-01</td>\n",
       "      <td>3</td>\n",
       "      <td>65</td>\n",
       "      <td>40</td>\n",
       "      <td>1</td>\n",
       "      <td>Coffee</td>\n",
       "      <td>Cappuccino</td>\n",
       "    </tr>\n",
       "    <tr>\n",
       "      <th>17</th>\n",
       "      <td>112</td>\n",
       "      <td>2019-04-01</td>\n",
       "      <td>3</td>\n",
       "      <td>90</td>\n",
       "      <td>37</td>\n",
       "      <td>2</td>\n",
       "      <td>Coffee</td>\n",
       "      <td>Espresso shot</td>\n",
       "    </tr>\n",
       "    <tr>\n",
       "      <th>20</th>\n",
       "      <td>127</td>\n",
       "      <td>2019-04-01</td>\n",
       "      <td>3</td>\n",
       "      <td>116</td>\n",
       "      <td>41</td>\n",
       "      <td>2</td>\n",
       "      <td>Coffee</td>\n",
       "      <td>Cappuccino</td>\n",
       "    </tr>\n",
       "    <tr>\n",
       "      <th>21</th>\n",
       "      <td>134</td>\n",
       "      <td>2019-04-01</td>\n",
       "      <td>3</td>\n",
       "      <td>189</td>\n",
       "      <td>38</td>\n",
       "      <td>2</td>\n",
       "      <td>Coffee</td>\n",
       "      <td>Latte</td>\n",
       "    </tr>\n",
       "    <tr>\n",
       "      <th>22</th>\n",
       "      <td>135</td>\n",
       "      <td>2019-04-01</td>\n",
       "      <td>3</td>\n",
       "      <td>131</td>\n",
       "      <td>40</td>\n",
       "      <td>1</td>\n",
       "      <td>Coffee</td>\n",
       "      <td>Cappuccino</td>\n",
       "    </tr>\n",
       "  </tbody>\n",
       "</table>\n",
       "</div>"
      ],
      "text/plain": [
       "    transaction_id transaction_date  sales_outlet_id  customer_id  product_id  \\\n",
       "16             108       2019-04-01                3           65          40   \n",
       "17             112       2019-04-01                3           90          37   \n",
       "20             127       2019-04-01                3          116          41   \n",
       "21             134       2019-04-01                3          189          38   \n",
       "22             135       2019-04-01                3          131          40   \n",
       "\n",
       "    quantity product_category        product  \n",
       "16         1           Coffee     Cappuccino  \n",
       "17         2           Coffee  Espresso shot  \n",
       "20         2           Coffee     Cappuccino  \n",
       "21         2           Coffee          Latte  \n",
       "22         1           Coffee     Cappuccino  "
      ]
     },
     "execution_count": 23,
     "metadata": {},
     "output_type": "execute_result"
    }
   ],
   "source": [
    "dataset.head()"
   ]
  },
  {
   "cell_type": "code",
   "execution_count": 24,
   "id": "86c70d78",
   "metadata": {},
   "outputs": [],
   "source": [
    "dataset['transaction'] = dataset['transaction_id'].astype(str) +\"_\"+  dataset['customer_id'].astype(str)"
   ]
  },
  {
   "cell_type": "code",
   "execution_count": 25,
   "id": "f1d03a21",
   "metadata": {},
   "outputs": [
    {
     "data": {
      "application/vnd.microsoft.datawrangler.viewer.v0+json": {
       "columns": [
        {
         "name": "index",
         "rawType": "int64",
         "type": "integer"
        },
        {
         "name": "transaction_id",
         "rawType": "int64",
         "type": "integer"
        },
        {
         "name": "transaction_date",
         "rawType": "object",
         "type": "string"
        },
        {
         "name": "sales_outlet_id",
         "rawType": "int64",
         "type": "integer"
        },
        {
         "name": "customer_id",
         "rawType": "int64",
         "type": "integer"
        },
        {
         "name": "product_id",
         "rawType": "int64",
         "type": "integer"
        },
        {
         "name": "quantity",
         "rawType": "int64",
         "type": "integer"
        },
        {
         "name": "product_category",
         "rawType": "object",
         "type": "string"
        },
        {
         "name": "product",
         "rawType": "object",
         "type": "string"
        },
        {
         "name": "transaction",
         "rawType": "object",
         "type": "string"
        }
       ],
       "ref": "84543626-a38c-4595-96d6-b8a0484fbf8e",
       "rows": [
        [
         "16",
         "108",
         "2019-04-01",
         "3",
         "65",
         "40",
         "1",
         "Coffee",
         "Cappuccino",
         "108_65"
        ],
        [
         "17",
         "112",
         "2019-04-01",
         "3",
         "90",
         "37",
         "2",
         "Coffee",
         "Espresso shot",
         "112_90"
        ],
        [
         "20",
         "127",
         "2019-04-01",
         "3",
         "116",
         "41",
         "2",
         "Coffee",
         "Cappuccino",
         "127_116"
        ],
        [
         "21",
         "134",
         "2019-04-01",
         "3",
         "189",
         "38",
         "2",
         "Coffee",
         "Latte",
         "134_189"
        ],
        [
         "22",
         "135",
         "2019-04-01",
         "3",
         "131",
         "40",
         "1",
         "Coffee",
         "Cappuccino",
         "135_131"
        ]
       ],
       "shape": {
        "columns": 9,
        "rows": 5
       }
      },
      "text/html": [
       "<div>\n",
       "<style scoped>\n",
       "    .dataframe tbody tr th:only-of-type {\n",
       "        vertical-align: middle;\n",
       "    }\n",
       "\n",
       "    .dataframe tbody tr th {\n",
       "        vertical-align: top;\n",
       "    }\n",
       "\n",
       "    .dataframe thead th {\n",
       "        text-align: right;\n",
       "    }\n",
       "</style>\n",
       "<table border=\"1\" class=\"dataframe\">\n",
       "  <thead>\n",
       "    <tr style=\"text-align: right;\">\n",
       "      <th></th>\n",
       "      <th>transaction_id</th>\n",
       "      <th>transaction_date</th>\n",
       "      <th>sales_outlet_id</th>\n",
       "      <th>customer_id</th>\n",
       "      <th>product_id</th>\n",
       "      <th>quantity</th>\n",
       "      <th>product_category</th>\n",
       "      <th>product</th>\n",
       "      <th>transaction</th>\n",
       "    </tr>\n",
       "  </thead>\n",
       "  <tbody>\n",
       "    <tr>\n",
       "      <th>16</th>\n",
       "      <td>108</td>\n",
       "      <td>2019-04-01</td>\n",
       "      <td>3</td>\n",
       "      <td>65</td>\n",
       "      <td>40</td>\n",
       "      <td>1</td>\n",
       "      <td>Coffee</td>\n",
       "      <td>Cappuccino</td>\n",
       "      <td>108_65</td>\n",
       "    </tr>\n",
       "    <tr>\n",
       "      <th>17</th>\n",
       "      <td>112</td>\n",
       "      <td>2019-04-01</td>\n",
       "      <td>3</td>\n",
       "      <td>90</td>\n",
       "      <td>37</td>\n",
       "      <td>2</td>\n",
       "      <td>Coffee</td>\n",
       "      <td>Espresso shot</td>\n",
       "      <td>112_90</td>\n",
       "    </tr>\n",
       "    <tr>\n",
       "      <th>20</th>\n",
       "      <td>127</td>\n",
       "      <td>2019-04-01</td>\n",
       "      <td>3</td>\n",
       "      <td>116</td>\n",
       "      <td>41</td>\n",
       "      <td>2</td>\n",
       "      <td>Coffee</td>\n",
       "      <td>Cappuccino</td>\n",
       "      <td>127_116</td>\n",
       "    </tr>\n",
       "    <tr>\n",
       "      <th>21</th>\n",
       "      <td>134</td>\n",
       "      <td>2019-04-01</td>\n",
       "      <td>3</td>\n",
       "      <td>189</td>\n",
       "      <td>38</td>\n",
       "      <td>2</td>\n",
       "      <td>Coffee</td>\n",
       "      <td>Latte</td>\n",
       "      <td>134_189</td>\n",
       "    </tr>\n",
       "    <tr>\n",
       "      <th>22</th>\n",
       "      <td>135</td>\n",
       "      <td>2019-04-01</td>\n",
       "      <td>3</td>\n",
       "      <td>131</td>\n",
       "      <td>40</td>\n",
       "      <td>1</td>\n",
       "      <td>Coffee</td>\n",
       "      <td>Cappuccino</td>\n",
       "      <td>135_131</td>\n",
       "    </tr>\n",
       "  </tbody>\n",
       "</table>\n",
       "</div>"
      ],
      "text/plain": [
       "    transaction_id transaction_date  sales_outlet_id  customer_id  product_id  \\\n",
       "16             108       2019-04-01                3           65          40   \n",
       "17             112       2019-04-01                3           90          37   \n",
       "20             127       2019-04-01                3          116          41   \n",
       "21             134       2019-04-01                3          189          38   \n",
       "22             135       2019-04-01                3          131          40   \n",
       "\n",
       "    quantity product_category        product transaction  \n",
       "16         1           Coffee     Cappuccino      108_65  \n",
       "17         2           Coffee  Espresso shot      112_90  \n",
       "20         2           Coffee     Cappuccino     127_116  \n",
       "21         2           Coffee          Latte     134_189  \n",
       "22         1           Coffee     Cappuccino     135_131  "
      ]
     },
     "execution_count": 25,
     "metadata": {},
     "output_type": "execute_result"
    }
   ],
   "source": [
    "dataset.head()"
   ]
  },
  {
   "cell_type": "code",
   "execution_count": 26,
   "id": "a068fce8",
   "metadata": {},
   "outputs": [],
   "source": [
    "num_of_items_for_each_transaction = dataset['transaction'].value_counts().reset_index()\n",
    "valid_transactions = num_of_items_for_each_transaction[(num_of_items_for_each_transaction['count']>1)]['transaction'].tolist()\n",
    "dataset = dataset[dataset['transaction'].isin(valid_transactions)]"
   ]
  },
  {
   "cell_type": "code",
   "execution_count": 27,
   "id": "913498d5",
   "metadata": {},
   "outputs": [
    {
     "data": {
      "application/vnd.microsoft.datawrangler.viewer.v0+json": {
       "columns": [
        {
         "name": "index",
         "rawType": "int64",
         "type": "integer"
        },
        {
         "name": "transaction_id",
         "rawType": "int64",
         "type": "integer"
        },
        {
         "name": "transaction_date",
         "rawType": "object",
         "type": "string"
        },
        {
         "name": "sales_outlet_id",
         "rawType": "int64",
         "type": "integer"
        },
        {
         "name": "customer_id",
         "rawType": "int64",
         "type": "integer"
        },
        {
         "name": "product_id",
         "rawType": "int64",
         "type": "integer"
        },
        {
         "name": "quantity",
         "rawType": "int64",
         "type": "integer"
        },
        {
         "name": "product_category",
         "rawType": "object",
         "type": "string"
        },
        {
         "name": "product",
         "rawType": "object",
         "type": "string"
        },
        {
         "name": "transaction",
         "rawType": "object",
         "type": "string"
        }
       ],
       "ref": "37004dbb-d98f-4858-835d-7633c0757772",
       "rows": [
        [
         "34",
         "199",
         "2019-04-01",
         "3",
         "112",
         "41",
         "2",
         "Coffee",
         "Cappuccino",
         "199_112"
        ],
        [
         "35",
         "199",
         "2019-04-01",
         "3",
         "112",
         "79",
         "1",
         "Bakery",
         "Jumbo Savory Scone",
         "199_112"
        ],
        [
         "54",
         "296",
         "2019-04-01",
         "3",
         "328",
         "39",
         "1",
         "Coffee",
         "Latte",
         "296_328"
        ],
        [
         "55",
         "296",
         "2019-04-01",
         "3",
         "328",
         "79",
         "1",
         "Bakery",
         "Jumbo Savory Scone",
         "296_328"
        ],
        [
         "64",
         "357",
         "2019-04-01",
         "3",
         "530",
         "41",
         "2",
         "Coffee",
         "Cappuccino",
         "357_530"
        ],
        [
         "65",
         "357",
         "2019-04-01",
         "3",
         "530",
         "76",
         "1",
         "Bakery",
         "Chocolate Chip Biscotti",
         "357_530"
        ],
        [
         "251",
         "1185",
         "2019-04-01",
         "3",
         "490",
         "37",
         "2",
         "Coffee",
         "Espresso shot",
         "1185_490"
        ],
        [
         "252",
         "1185",
         "2019-04-01",
         "3",
         "490",
         "69",
         "1",
         "Bakery",
         "Hazelnut Biscotti",
         "1185_490"
        ],
        [
         "258",
         "1207",
         "2019-04-01",
         "3",
         "55",
         "40",
         "2",
         "Coffee",
         "Cappuccino",
         "1207_55"
        ],
        [
         "259",
         "1207",
         "2019-04-01",
         "3",
         "55",
         "71",
         "1",
         "Bakery",
         "Chocolate Croissant",
         "1207_55"
        ],
        [
         "277",
         "1288",
         "2019-04-01",
         "3",
         "603",
         "59",
         "2",
         "Drinking Chocolate",
         "Dark chocolate",
         "1288_603"
        ],
        [
         "278",
         "1288",
         "2019-04-01",
         "3",
         "603",
         "70",
         "1",
         "Bakery",
         "Cranberry Scone",
         "1288_603"
        ],
        [
         "295",
         "1355",
         "2019-04-01",
         "3",
         "580",
         "38",
         "1",
         "Coffee",
         "Latte",
         "1355_580"
        ],
        [
         "296",
         "1355",
         "2019-04-01",
         "3",
         "580",
         "75",
         "1",
         "Bakery",
         "Croissant",
         "1355_580"
        ],
        [
         "384",
         "1712",
         "2019-04-01",
         "3",
         "779",
         "39",
         "1",
         "Coffee",
         "Latte",
         "1712_779"
        ],
        [
         "385",
         "1712",
         "2019-04-01",
         "3",
         "779",
         "73",
         "1",
         "Bakery",
         "Almond Croissant",
         "1712_779"
        ],
        [
         "395",
         "1745",
         "2019-04-01",
         "3",
         "753",
         "58",
         "1",
         "Drinking Chocolate",
         "Dark chocolate",
         "1745_753"
        ],
        [
         "396",
         "1745",
         "2019-04-01",
         "3",
         "753",
         "69",
         "1",
         "Bakery",
         "Hazelnut Biscotti",
         "1745_753"
        ],
        [
         "458",
         "2008",
         "2019-04-01",
         "3",
         "12",
         "37",
         "1",
         "Coffee",
         "Espresso shot",
         "2008_12"
        ],
        [
         "459",
         "2008",
         "2019-04-01",
         "3",
         "12",
         "75",
         "1",
         "Bakery",
         "Croissant",
         "2008_12"
        ],
        [
         "545",
         "2396",
         "2019-04-01",
         "3",
         "133",
         "37",
         "2",
         "Coffee",
         "Espresso shot",
         "2396_133"
        ],
        [
         "546",
         "2396",
         "2019-04-01",
         "3",
         "133",
         "69",
         "1",
         "Bakery",
         "Hazelnut Biscotti",
         "2396_133"
        ],
        [
         "600",
         "71",
         "2019-04-01",
         "5",
         "5598",
         "38",
         "1",
         "Coffee",
         "Latte",
         "71_5598"
        ],
        [
         "601",
         "71",
         "2019-04-01",
         "5",
         "5598",
         "75",
         "1",
         "Bakery",
         "Croissant",
         "71_5598"
        ],
        [
         "618",
         "180",
         "2019-04-01",
         "5",
         "5815",
         "40",
         "1",
         "Coffee",
         "Cappuccino",
         "180_5815"
        ],
        [
         "619",
         "180",
         "2019-04-01",
         "5",
         "5815",
         "75",
         "1",
         "Bakery",
         "Croissant",
         "180_5815"
        ],
        [
         "620",
         "191",
         "2019-04-01",
         "5",
         "5923",
         "41",
         "1",
         "Coffee",
         "Cappuccino",
         "191_5923"
        ],
        [
         "621",
         "191",
         "2019-04-01",
         "5",
         "5923",
         "69",
         "1",
         "Bakery",
         "Hazelnut Biscotti",
         "191_5923"
        ],
        [
         "625",
         "202",
         "2019-04-01",
         "5",
         "5873",
         "37",
         "1",
         "Coffee",
         "Espresso shot",
         "202_5873"
        ],
        [
         "626",
         "202",
         "2019-04-01",
         "5",
         "5873",
         "70",
         "1",
         "Bakery",
         "Cranberry Scone",
         "202_5873"
        ],
        [
         "701",
         "653",
         "2019-04-01",
         "5",
         "5233",
         "38",
         "1",
         "Coffee",
         "Latte",
         "653_5233"
        ],
        [
         "702",
         "653",
         "2019-04-01",
         "5",
         "5233",
         "76",
         "1",
         "Bakery",
         "Chocolate Chip Biscotti",
         "653_5233"
        ],
        [
         "785",
         "1082",
         "2019-04-01",
         "5",
         "5181",
         "37",
         "2",
         "Coffee",
         "Espresso shot",
         "1082_5181"
        ],
        [
         "786",
         "1082",
         "2019-04-01",
         "5",
         "5181",
         "79",
         "1",
         "Bakery",
         "Jumbo Savory Scone",
         "1082_5181"
        ],
        [
         "793",
         "1106",
         "2019-04-01",
         "5",
         "5013",
         "41",
         "1",
         "Coffee",
         "Cappuccino",
         "1106_5013"
        ],
        [
         "794",
         "1106",
         "2019-04-01",
         "5",
         "5013",
         "74",
         "1",
         "Bakery",
         "Ginger Biscotti",
         "1106_5013"
        ],
        [
         "805",
         "1154",
         "2019-04-01",
         "5",
         "5439",
         "39",
         "1",
         "Coffee",
         "Latte",
         "1154_5439"
        ],
        [
         "806",
         "1154",
         "2019-04-01",
         "5",
         "5439",
         "77",
         "1",
         "Bakery",
         "Oatmeal Scone",
         "1154_5439"
        ],
        [
         "817",
         "1211",
         "2019-04-01",
         "5",
         "5073",
         "58",
         "2",
         "Drinking Chocolate",
         "Dark chocolate",
         "1211_5073"
        ],
        [
         "818",
         "1211",
         "2019-04-01",
         "5",
         "5073",
         "74",
         "1",
         "Bakery",
         "Ginger Biscotti",
         "1211_5073"
        ],
        [
         "824",
         "1226",
         "2019-04-01",
         "5",
         "5127",
         "41",
         "2",
         "Coffee",
         "Cappuccino",
         "1226_5127"
        ],
        [
         "825",
         "1226",
         "2019-04-01",
         "5",
         "5127",
         "77",
         "1",
         "Bakery",
         "Oatmeal Scone",
         "1226_5127"
        ],
        [
         "936",
         "1799",
         "2019-04-01",
         "5",
         "5744",
         "39",
         "1",
         "Coffee",
         "Latte",
         "1799_5744"
        ],
        [
         "937",
         "1799",
         "2019-04-01",
         "5",
         "5744",
         "72",
         "1",
         "Bakery",
         "Ginger Scone",
         "1799_5744"
        ],
        [
         "944",
         "1841",
         "2019-04-01",
         "5",
         "5415",
         "37",
         "2",
         "Coffee",
         "Espresso shot",
         "1841_5415"
        ],
        [
         "945",
         "1841",
         "2019-04-01",
         "5",
         "5415",
         "69",
         "1",
         "Bakery",
         "Hazelnut Biscotti",
         "1841_5415"
        ],
        [
         "976",
         "2022",
         "2019-04-01",
         "5",
         "5691",
         "39",
         "2",
         "Coffee",
         "Latte",
         "2022_5691"
        ],
        [
         "977",
         "2022",
         "2019-04-01",
         "5",
         "5691",
         "69",
         "1",
         "Bakery",
         "Hazelnut Biscotti",
         "2022_5691"
        ],
        [
         "1003",
         "2119",
         "2019-04-01",
         "5",
         "5558",
         "40",
         "2",
         "Coffee",
         "Cappuccino",
         "2119_5558"
        ],
        [
         "1004",
         "2119",
         "2019-04-01",
         "5",
         "5558",
         "72",
         "1",
         "Bakery",
         "Ginger Scone",
         "2119_5558"
        ]
       ],
       "shape": {
        "columns": 9,
        "rows": 10189
       }
      },
      "text/html": [
       "<div>\n",
       "<style scoped>\n",
       "    .dataframe tbody tr th:only-of-type {\n",
       "        vertical-align: middle;\n",
       "    }\n",
       "\n",
       "    .dataframe tbody tr th {\n",
       "        vertical-align: top;\n",
       "    }\n",
       "\n",
       "    .dataframe thead th {\n",
       "        text-align: right;\n",
       "    }\n",
       "</style>\n",
       "<table border=\"1\" class=\"dataframe\">\n",
       "  <thead>\n",
       "    <tr style=\"text-align: right;\">\n",
       "      <th></th>\n",
       "      <th>transaction_id</th>\n",
       "      <th>transaction_date</th>\n",
       "      <th>sales_outlet_id</th>\n",
       "      <th>customer_id</th>\n",
       "      <th>product_id</th>\n",
       "      <th>quantity</th>\n",
       "      <th>product_category</th>\n",
       "      <th>product</th>\n",
       "      <th>transaction</th>\n",
       "    </tr>\n",
       "  </thead>\n",
       "  <tbody>\n",
       "    <tr>\n",
       "      <th>34</th>\n",
       "      <td>199</td>\n",
       "      <td>2019-04-01</td>\n",
       "      <td>3</td>\n",
       "      <td>112</td>\n",
       "      <td>41</td>\n",
       "      <td>2</td>\n",
       "      <td>Coffee</td>\n",
       "      <td>Cappuccino</td>\n",
       "      <td>199_112</td>\n",
       "    </tr>\n",
       "    <tr>\n",
       "      <th>35</th>\n",
       "      <td>199</td>\n",
       "      <td>2019-04-01</td>\n",
       "      <td>3</td>\n",
       "      <td>112</td>\n",
       "      <td>79</td>\n",
       "      <td>1</td>\n",
       "      <td>Bakery</td>\n",
       "      <td>Jumbo Savory Scone</td>\n",
       "      <td>199_112</td>\n",
       "    </tr>\n",
       "    <tr>\n",
       "      <th>54</th>\n",
       "      <td>296</td>\n",
       "      <td>2019-04-01</td>\n",
       "      <td>3</td>\n",
       "      <td>328</td>\n",
       "      <td>39</td>\n",
       "      <td>1</td>\n",
       "      <td>Coffee</td>\n",
       "      <td>Latte</td>\n",
       "      <td>296_328</td>\n",
       "    </tr>\n",
       "    <tr>\n",
       "      <th>55</th>\n",
       "      <td>296</td>\n",
       "      <td>2019-04-01</td>\n",
       "      <td>3</td>\n",
       "      <td>328</td>\n",
       "      <td>79</td>\n",
       "      <td>1</td>\n",
       "      <td>Bakery</td>\n",
       "      <td>Jumbo Savory Scone</td>\n",
       "      <td>296_328</td>\n",
       "    </tr>\n",
       "    <tr>\n",
       "      <th>64</th>\n",
       "      <td>357</td>\n",
       "      <td>2019-04-01</td>\n",
       "      <td>3</td>\n",
       "      <td>530</td>\n",
       "      <td>41</td>\n",
       "      <td>2</td>\n",
       "      <td>Coffee</td>\n",
       "      <td>Cappuccino</td>\n",
       "      <td>357_530</td>\n",
       "    </tr>\n",
       "    <tr>\n",
       "      <th>...</th>\n",
       "      <td>...</td>\n",
       "      <td>...</td>\n",
       "      <td>...</td>\n",
       "      <td>...</td>\n",
       "      <td>...</td>\n",
       "      <td>...</td>\n",
       "      <td>...</td>\n",
       "      <td>...</td>\n",
       "      <td>...</td>\n",
       "    </tr>\n",
       "    <tr>\n",
       "      <th>49880</th>\n",
       "      <td>736</td>\n",
       "      <td>2019-04-29</td>\n",
       "      <td>8</td>\n",
       "      <td>0</td>\n",
       "      <td>38</td>\n",
       "      <td>1</td>\n",
       "      <td>Coffee</td>\n",
       "      <td>Latte</td>\n",
       "      <td>736_0</td>\n",
       "    </tr>\n",
       "    <tr>\n",
       "      <th>49883</th>\n",
       "      <td>742</td>\n",
       "      <td>2019-04-29</td>\n",
       "      <td>8</td>\n",
       "      <td>0</td>\n",
       "      <td>41</td>\n",
       "      <td>1</td>\n",
       "      <td>Coffee</td>\n",
       "      <td>Cappuccino</td>\n",
       "      <td>742_0</td>\n",
       "    </tr>\n",
       "    <tr>\n",
       "      <th>49884</th>\n",
       "      <td>742</td>\n",
       "      <td>2019-04-29</td>\n",
       "      <td>8</td>\n",
       "      <td>0</td>\n",
       "      <td>74</td>\n",
       "      <td>1</td>\n",
       "      <td>Bakery</td>\n",
       "      <td>Ginger Biscotti</td>\n",
       "      <td>742_0</td>\n",
       "    </tr>\n",
       "    <tr>\n",
       "      <th>49885</th>\n",
       "      <td>746</td>\n",
       "      <td>2019-04-29</td>\n",
       "      <td>8</td>\n",
       "      <td>0</td>\n",
       "      <td>37</td>\n",
       "      <td>2</td>\n",
       "      <td>Coffee</td>\n",
       "      <td>Espresso shot</td>\n",
       "      <td>746_0</td>\n",
       "    </tr>\n",
       "    <tr>\n",
       "      <th>49886</th>\n",
       "      <td>746</td>\n",
       "      <td>2019-04-29</td>\n",
       "      <td>8</td>\n",
       "      <td>0</td>\n",
       "      <td>71</td>\n",
       "      <td>1</td>\n",
       "      <td>Bakery</td>\n",
       "      <td>Chocolate Croissant</td>\n",
       "      <td>746_0</td>\n",
       "    </tr>\n",
       "  </tbody>\n",
       "</table>\n",
       "<p>10189 rows × 9 columns</p>\n",
       "</div>"
      ],
      "text/plain": [
       "       transaction_id transaction_date  sales_outlet_id  customer_id  \\\n",
       "34                199       2019-04-01                3          112   \n",
       "35                199       2019-04-01                3          112   \n",
       "54                296       2019-04-01                3          328   \n",
       "55                296       2019-04-01                3          328   \n",
       "64                357       2019-04-01                3          530   \n",
       "...               ...              ...              ...          ...   \n",
       "49880             736       2019-04-29                8            0   \n",
       "49883             742       2019-04-29                8            0   \n",
       "49884             742       2019-04-29                8            0   \n",
       "49885             746       2019-04-29                8            0   \n",
       "49886             746       2019-04-29                8            0   \n",
       "\n",
       "       product_id  quantity product_category              product transaction  \n",
       "34             41         2           Coffee           Cappuccino     199_112  \n",
       "35             79         1           Bakery   Jumbo Savory Scone     199_112  \n",
       "54             39         1           Coffee                Latte     296_328  \n",
       "55             79         1           Bakery   Jumbo Savory Scone     296_328  \n",
       "64             41         2           Coffee           Cappuccino     357_530  \n",
       "...           ...       ...              ...                  ...         ...  \n",
       "49880          38         1           Coffee                Latte       736_0  \n",
       "49883          41         1           Coffee           Cappuccino       742_0  \n",
       "49884          74         1           Bakery      Ginger Biscotti       742_0  \n",
       "49885          37         2           Coffee        Espresso shot       746_0  \n",
       "49886          71         1           Bakery  Chocolate Croissant       746_0  \n",
       "\n",
       "[10189 rows x 9 columns]"
      ]
     },
     "execution_count": 27,
     "metadata": {},
     "output_type": "execute_result"
    }
   ],
   "source": [
    "dataset"
   ]
  },
  {
   "cell_type": "code",
   "execution_count": 28,
   "id": "5eadf9ac",
   "metadata": {},
   "outputs": [
    {
     "data": {
      "text/plain": [
       "(10189, 9)"
      ]
     },
     "execution_count": 28,
     "metadata": {},
     "output_type": "execute_result"
    }
   ],
   "source": [
    "dataset.shape"
   ]
  },
  {
   "cell_type": "code",
   "execution_count": null,
   "id": "440d3f47",
   "metadata": {},
   "outputs": [],
   "source": []
  },
  {
   "cell_type": "markdown",
   "id": "53869fe2",
   "metadata": {},
   "source": [
    "## Product Trends"
   ]
  },
  {
   "cell_type": "code",
   "execution_count": 29,
   "id": "962fea2d",
   "metadata": {},
   "outputs": [
    {
     "data": {
      "application/vnd.microsoft.datawrangler.viewer.v0+json": {
       "columns": [
        {
         "name": "product_category",
         "rawType": "object",
         "type": "string"
        },
        {
         "name": "count",
         "rawType": "int64",
         "type": "integer"
        }
       ],
       "ref": "4eddd45a-2306-4853-9199-eabd6524b6f2",
       "rows": [
        [
         "Bakery",
         "3800"
        ],
        [
         "Coffee",
         "3174"
        ],
        [
         "Flavours",
         "2246"
        ],
        [
         "Drinking Chocolate",
         "947"
        ],
        [
         "Packaged Chocolate",
         "22"
        ]
       ],
       "shape": {
        "columns": 1,
        "rows": 5
       }
      },
      "text/plain": [
       "product_category\n",
       "Bakery                3800\n",
       "Coffee                3174\n",
       "Flavours              2246\n",
       "Drinking Chocolate     947\n",
       "Packaged Chocolate      22\n",
       "Name: count, dtype: int64"
      ]
     },
     "execution_count": 29,
     "metadata": {},
     "output_type": "execute_result"
    }
   ],
   "source": [
    "dataset[\"product_category\"].value_counts()"
   ]
  },
  {
   "cell_type": "code",
   "execution_count": 30,
   "id": "f3fc3359",
   "metadata": {},
   "outputs": [
    {
     "data": {
      "application/vnd.microsoft.datawrangler.viewer.v0+json": {
       "columns": [
        {
         "name": "product",
         "rawType": "object",
         "type": "string"
        },
        {
         "name": "count",
         "rawType": "int64",
         "type": "integer"
        }
       ],
       "ref": "71d65762-ad22-4cde-86f7-2e62e0d3d333",
       "rows": [
        [
         "Cappuccino",
         "1290"
        ],
        [
         "Latte",
         "1256"
        ],
        [
         "Dark chocolate",
         "969"
        ],
        [
         "Chocolate Croissant",
         "636"
        ],
        [
         "Espresso shot",
         "628"
        ],
        [
         "Sugar Free Vanilla syrup",
         "605"
        ],
        [
         "Chocolate syrup",
         "568"
        ],
        [
         "Carmel syrup",
         "561"
        ],
        [
         "Hazelnut syrup",
         "512"
        ],
        [
         "Ginger Scone",
         "417"
        ],
        [
         "Jumbo Savory Scone",
         "357"
        ],
        [
         "Croissant",
         "355"
        ],
        [
         "Chocolate Chip Biscotti",
         "352"
        ],
        [
         "Cranberry Scone",
         "350"
        ],
        [
         "Almond Croissant",
         "347"
        ],
        [
         "Hazelnut Biscotti",
         "338"
        ],
        [
         "Oatmeal Scone",
         "334"
        ],
        [
         "Ginger Biscotti",
         "314"
        ]
       ],
       "shape": {
        "columns": 1,
        "rows": 18
       }
      },
      "text/plain": [
       "product\n",
       "Cappuccino                  1290\n",
       "Latte                       1256\n",
       "Dark chocolate               969\n",
       "Chocolate Croissant          636\n",
       "Espresso shot                628\n",
       "Sugar Free Vanilla syrup     605\n",
       "Chocolate syrup              568\n",
       "Carmel syrup                 561\n",
       "Hazelnut syrup               512\n",
       "Ginger Scone                 417\n",
       "Jumbo Savory Scone           357\n",
       "Croissant                    355\n",
       "Chocolate Chip Biscotti      352\n",
       "Cranberry Scone              350\n",
       "Almond Croissant             347\n",
       "Hazelnut Biscotti            338\n",
       "Oatmeal Scone                334\n",
       "Ginger Biscotti              314\n",
       "Name: count, dtype: int64"
      ]
     },
     "execution_count": 30,
     "metadata": {},
     "output_type": "execute_result"
    }
   ],
   "source": [
    "dataset['product'].value_counts()"
   ]
  },
  {
   "cell_type": "code",
   "execution_count": null,
   "id": "8bcc8a26",
   "metadata": {},
   "outputs": [],
   "source": []
  },
  {
   "cell_type": "markdown",
   "id": "eb4762d3",
   "metadata": {},
   "source": [
    "# Popularity Recommendation Engine"
   ]
  },
  {
   "cell_type": "code",
   "execution_count": 31,
   "id": "f2eabbd1",
   "metadata": {},
   "outputs": [
    {
     "data": {
      "application/vnd.microsoft.datawrangler.viewer.v0+json": {
       "columns": [
        {
         "name": "index",
         "rawType": "int64",
         "type": "integer"
        },
        {
         "name": "product",
         "rawType": "object",
         "type": "string"
        },
        {
         "name": "product_category",
         "rawType": "object",
         "type": "string"
        },
        {
         "name": "transaction_id",
         "rawType": "int64",
         "type": "integer"
        },
        {
         "name": "transaction_date",
         "rawType": "int64",
         "type": "integer"
        },
        {
         "name": "sales_outlet_id",
         "rawType": "int64",
         "type": "integer"
        },
        {
         "name": "customer_id",
         "rawType": "int64",
         "type": "integer"
        },
        {
         "name": "product_id",
         "rawType": "int64",
         "type": "integer"
        },
        {
         "name": "quantity",
         "rawType": "int64",
         "type": "integer"
        },
        {
         "name": "transaction",
         "rawType": "int64",
         "type": "integer"
        }
       ],
       "ref": "38df4333-c197-4d14-9116-16b3ca2280e6",
       "rows": [
        [
         "0",
         "Almond Croissant",
         "Bakery",
         "347",
         "347",
         "347",
         "347",
         "347",
         "347",
         "347"
        ],
        [
         "1",
         "Cappuccino",
         "Coffee",
         "1290",
         "1290",
         "1290",
         "1290",
         "1290",
         "1290",
         "1290"
        ],
        [
         "2",
         "Carmel syrup",
         "Flavours",
         "561",
         "561",
         "561",
         "561",
         "561",
         "561",
         "561"
        ],
        [
         "3",
         "Chocolate Chip Biscotti",
         "Bakery",
         "352",
         "352",
         "352",
         "352",
         "352",
         "352",
         "352"
        ],
        [
         "4",
         "Chocolate Croissant",
         "Bakery",
         "636",
         "636",
         "636",
         "636",
         "636",
         "636",
         "636"
        ],
        [
         "5",
         "Chocolate syrup",
         "Flavours",
         "568",
         "568",
         "568",
         "568",
         "568",
         "568",
         "568"
        ],
        [
         "6",
         "Cranberry Scone",
         "Bakery",
         "350",
         "350",
         "350",
         "350",
         "350",
         "350",
         "350"
        ],
        [
         "7",
         "Croissant",
         "Bakery",
         "355",
         "355",
         "355",
         "355",
         "355",
         "355",
         "355"
        ],
        [
         "8",
         "Dark chocolate",
         "Drinking Chocolate",
         "947",
         "947",
         "947",
         "947",
         "947",
         "947",
         "947"
        ],
        [
         "9",
         "Dark chocolate",
         "Packaged Chocolate",
         "22",
         "22",
         "22",
         "22",
         "22",
         "22",
         "22"
        ],
        [
         "10",
         "Espresso shot",
         "Coffee",
         "628",
         "628",
         "628",
         "628",
         "628",
         "628",
         "628"
        ],
        [
         "11",
         "Ginger Biscotti",
         "Bakery",
         "314",
         "314",
         "314",
         "314",
         "314",
         "314",
         "314"
        ],
        [
         "12",
         "Ginger Scone",
         "Bakery",
         "417",
         "417",
         "417",
         "417",
         "417",
         "417",
         "417"
        ],
        [
         "13",
         "Hazelnut Biscotti",
         "Bakery",
         "338",
         "338",
         "338",
         "338",
         "338",
         "338",
         "338"
        ],
        [
         "14",
         "Hazelnut syrup",
         "Flavours",
         "512",
         "512",
         "512",
         "512",
         "512",
         "512",
         "512"
        ],
        [
         "15",
         "Jumbo Savory Scone",
         "Bakery",
         "357",
         "357",
         "357",
         "357",
         "357",
         "357",
         "357"
        ],
        [
         "16",
         "Latte",
         "Coffee",
         "1256",
         "1256",
         "1256",
         "1256",
         "1256",
         "1256",
         "1256"
        ],
        [
         "17",
         "Oatmeal Scone",
         "Bakery",
         "334",
         "334",
         "334",
         "334",
         "334",
         "334",
         "334"
        ],
        [
         "18",
         "Sugar Free Vanilla syrup",
         "Flavours",
         "605",
         "605",
         "605",
         "605",
         "605",
         "605",
         "605"
        ]
       ],
       "shape": {
        "columns": 9,
        "rows": 19
       }
      },
      "text/html": [
       "<div>\n",
       "<style scoped>\n",
       "    .dataframe tbody tr th:only-of-type {\n",
       "        vertical-align: middle;\n",
       "    }\n",
       "\n",
       "    .dataframe tbody tr th {\n",
       "        vertical-align: top;\n",
       "    }\n",
       "\n",
       "    .dataframe thead th {\n",
       "        text-align: right;\n",
       "    }\n",
       "</style>\n",
       "<table border=\"1\" class=\"dataframe\">\n",
       "  <thead>\n",
       "    <tr style=\"text-align: right;\">\n",
       "      <th></th>\n",
       "      <th>product</th>\n",
       "      <th>product_category</th>\n",
       "      <th>transaction_id</th>\n",
       "      <th>transaction_date</th>\n",
       "      <th>sales_outlet_id</th>\n",
       "      <th>customer_id</th>\n",
       "      <th>product_id</th>\n",
       "      <th>quantity</th>\n",
       "      <th>transaction</th>\n",
       "    </tr>\n",
       "  </thead>\n",
       "  <tbody>\n",
       "    <tr>\n",
       "      <th>0</th>\n",
       "      <td>Almond Croissant</td>\n",
       "      <td>Bakery</td>\n",
       "      <td>347</td>\n",
       "      <td>347</td>\n",
       "      <td>347</td>\n",
       "      <td>347</td>\n",
       "      <td>347</td>\n",
       "      <td>347</td>\n",
       "      <td>347</td>\n",
       "    </tr>\n",
       "    <tr>\n",
       "      <th>1</th>\n",
       "      <td>Cappuccino</td>\n",
       "      <td>Coffee</td>\n",
       "      <td>1290</td>\n",
       "      <td>1290</td>\n",
       "      <td>1290</td>\n",
       "      <td>1290</td>\n",
       "      <td>1290</td>\n",
       "      <td>1290</td>\n",
       "      <td>1290</td>\n",
       "    </tr>\n",
       "    <tr>\n",
       "      <th>2</th>\n",
       "      <td>Carmel syrup</td>\n",
       "      <td>Flavours</td>\n",
       "      <td>561</td>\n",
       "      <td>561</td>\n",
       "      <td>561</td>\n",
       "      <td>561</td>\n",
       "      <td>561</td>\n",
       "      <td>561</td>\n",
       "      <td>561</td>\n",
       "    </tr>\n",
       "    <tr>\n",
       "      <th>3</th>\n",
       "      <td>Chocolate Chip Biscotti</td>\n",
       "      <td>Bakery</td>\n",
       "      <td>352</td>\n",
       "      <td>352</td>\n",
       "      <td>352</td>\n",
       "      <td>352</td>\n",
       "      <td>352</td>\n",
       "      <td>352</td>\n",
       "      <td>352</td>\n",
       "    </tr>\n",
       "    <tr>\n",
       "      <th>4</th>\n",
       "      <td>Chocolate Croissant</td>\n",
       "      <td>Bakery</td>\n",
       "      <td>636</td>\n",
       "      <td>636</td>\n",
       "      <td>636</td>\n",
       "      <td>636</td>\n",
       "      <td>636</td>\n",
       "      <td>636</td>\n",
       "      <td>636</td>\n",
       "    </tr>\n",
       "    <tr>\n",
       "      <th>5</th>\n",
       "      <td>Chocolate syrup</td>\n",
       "      <td>Flavours</td>\n",
       "      <td>568</td>\n",
       "      <td>568</td>\n",
       "      <td>568</td>\n",
       "      <td>568</td>\n",
       "      <td>568</td>\n",
       "      <td>568</td>\n",
       "      <td>568</td>\n",
       "    </tr>\n",
       "    <tr>\n",
       "      <th>6</th>\n",
       "      <td>Cranberry Scone</td>\n",
       "      <td>Bakery</td>\n",
       "      <td>350</td>\n",
       "      <td>350</td>\n",
       "      <td>350</td>\n",
       "      <td>350</td>\n",
       "      <td>350</td>\n",
       "      <td>350</td>\n",
       "      <td>350</td>\n",
       "    </tr>\n",
       "    <tr>\n",
       "      <th>7</th>\n",
       "      <td>Croissant</td>\n",
       "      <td>Bakery</td>\n",
       "      <td>355</td>\n",
       "      <td>355</td>\n",
       "      <td>355</td>\n",
       "      <td>355</td>\n",
       "      <td>355</td>\n",
       "      <td>355</td>\n",
       "      <td>355</td>\n",
       "    </tr>\n",
       "    <tr>\n",
       "      <th>8</th>\n",
       "      <td>Dark chocolate</td>\n",
       "      <td>Drinking Chocolate</td>\n",
       "      <td>947</td>\n",
       "      <td>947</td>\n",
       "      <td>947</td>\n",
       "      <td>947</td>\n",
       "      <td>947</td>\n",
       "      <td>947</td>\n",
       "      <td>947</td>\n",
       "    </tr>\n",
       "    <tr>\n",
       "      <th>9</th>\n",
       "      <td>Dark chocolate</td>\n",
       "      <td>Packaged Chocolate</td>\n",
       "      <td>22</td>\n",
       "      <td>22</td>\n",
       "      <td>22</td>\n",
       "      <td>22</td>\n",
       "      <td>22</td>\n",
       "      <td>22</td>\n",
       "      <td>22</td>\n",
       "    </tr>\n",
       "    <tr>\n",
       "      <th>10</th>\n",
       "      <td>Espresso shot</td>\n",
       "      <td>Coffee</td>\n",
       "      <td>628</td>\n",
       "      <td>628</td>\n",
       "      <td>628</td>\n",
       "      <td>628</td>\n",
       "      <td>628</td>\n",
       "      <td>628</td>\n",
       "      <td>628</td>\n",
       "    </tr>\n",
       "    <tr>\n",
       "      <th>11</th>\n",
       "      <td>Ginger Biscotti</td>\n",
       "      <td>Bakery</td>\n",
       "      <td>314</td>\n",
       "      <td>314</td>\n",
       "      <td>314</td>\n",
       "      <td>314</td>\n",
       "      <td>314</td>\n",
       "      <td>314</td>\n",
       "      <td>314</td>\n",
       "    </tr>\n",
       "    <tr>\n",
       "      <th>12</th>\n",
       "      <td>Ginger Scone</td>\n",
       "      <td>Bakery</td>\n",
       "      <td>417</td>\n",
       "      <td>417</td>\n",
       "      <td>417</td>\n",
       "      <td>417</td>\n",
       "      <td>417</td>\n",
       "      <td>417</td>\n",
       "      <td>417</td>\n",
       "    </tr>\n",
       "    <tr>\n",
       "      <th>13</th>\n",
       "      <td>Hazelnut Biscotti</td>\n",
       "      <td>Bakery</td>\n",
       "      <td>338</td>\n",
       "      <td>338</td>\n",
       "      <td>338</td>\n",
       "      <td>338</td>\n",
       "      <td>338</td>\n",
       "      <td>338</td>\n",
       "      <td>338</td>\n",
       "    </tr>\n",
       "    <tr>\n",
       "      <th>14</th>\n",
       "      <td>Hazelnut syrup</td>\n",
       "      <td>Flavours</td>\n",
       "      <td>512</td>\n",
       "      <td>512</td>\n",
       "      <td>512</td>\n",
       "      <td>512</td>\n",
       "      <td>512</td>\n",
       "      <td>512</td>\n",
       "      <td>512</td>\n",
       "    </tr>\n",
       "    <tr>\n",
       "      <th>15</th>\n",
       "      <td>Jumbo Savory Scone</td>\n",
       "      <td>Bakery</td>\n",
       "      <td>357</td>\n",
       "      <td>357</td>\n",
       "      <td>357</td>\n",
       "      <td>357</td>\n",
       "      <td>357</td>\n",
       "      <td>357</td>\n",
       "      <td>357</td>\n",
       "    </tr>\n",
       "    <tr>\n",
       "      <th>16</th>\n",
       "      <td>Latte</td>\n",
       "      <td>Coffee</td>\n",
       "      <td>1256</td>\n",
       "      <td>1256</td>\n",
       "      <td>1256</td>\n",
       "      <td>1256</td>\n",
       "      <td>1256</td>\n",
       "      <td>1256</td>\n",
       "      <td>1256</td>\n",
       "    </tr>\n",
       "    <tr>\n",
       "      <th>17</th>\n",
       "      <td>Oatmeal Scone</td>\n",
       "      <td>Bakery</td>\n",
       "      <td>334</td>\n",
       "      <td>334</td>\n",
       "      <td>334</td>\n",
       "      <td>334</td>\n",
       "      <td>334</td>\n",
       "      <td>334</td>\n",
       "      <td>334</td>\n",
       "    </tr>\n",
       "    <tr>\n",
       "      <th>18</th>\n",
       "      <td>Sugar Free Vanilla syrup</td>\n",
       "      <td>Flavours</td>\n",
       "      <td>605</td>\n",
       "      <td>605</td>\n",
       "      <td>605</td>\n",
       "      <td>605</td>\n",
       "      <td>605</td>\n",
       "      <td>605</td>\n",
       "      <td>605</td>\n",
       "    </tr>\n",
       "  </tbody>\n",
       "</table>\n",
       "</div>"
      ],
      "text/plain": [
       "                     product    product_category  transaction_id  \\\n",
       "0           Almond Croissant              Bakery             347   \n",
       "1                 Cappuccino              Coffee            1290   \n",
       "2               Carmel syrup            Flavours             561   \n",
       "3    Chocolate Chip Biscotti              Bakery             352   \n",
       "4        Chocolate Croissant              Bakery             636   \n",
       "5            Chocolate syrup            Flavours             568   \n",
       "6            Cranberry Scone              Bakery             350   \n",
       "7                  Croissant              Bakery             355   \n",
       "8             Dark chocolate  Drinking Chocolate             947   \n",
       "9             Dark chocolate  Packaged Chocolate              22   \n",
       "10             Espresso shot              Coffee             628   \n",
       "11           Ginger Biscotti              Bakery             314   \n",
       "12              Ginger Scone              Bakery             417   \n",
       "13         Hazelnut Biscotti              Bakery             338   \n",
       "14            Hazelnut syrup            Flavours             512   \n",
       "15        Jumbo Savory Scone              Bakery             357   \n",
       "16                     Latte              Coffee            1256   \n",
       "17             Oatmeal Scone              Bakery             334   \n",
       "18  Sugar Free Vanilla syrup            Flavours             605   \n",
       "\n",
       "    transaction_date  sales_outlet_id  customer_id  product_id  quantity  \\\n",
       "0                347              347          347         347       347   \n",
       "1               1290             1290         1290        1290      1290   \n",
       "2                561              561          561         561       561   \n",
       "3                352              352          352         352       352   \n",
       "4                636              636          636         636       636   \n",
       "5                568              568          568         568       568   \n",
       "6                350              350          350         350       350   \n",
       "7                355              355          355         355       355   \n",
       "8                947              947          947         947       947   \n",
       "9                 22               22           22          22        22   \n",
       "10               628              628          628         628       628   \n",
       "11               314              314          314         314       314   \n",
       "12               417              417          417         417       417   \n",
       "13               338              338          338         338       338   \n",
       "14               512              512          512         512       512   \n",
       "15               357              357          357         357       357   \n",
       "16              1256             1256         1256        1256      1256   \n",
       "17               334              334          334         334       334   \n",
       "18               605              605          605         605       605   \n",
       "\n",
       "    transaction  \n",
       "0           347  \n",
       "1          1290  \n",
       "2           561  \n",
       "3           352  \n",
       "4           636  \n",
       "5           568  \n",
       "6           350  \n",
       "7           355  \n",
       "8           947  \n",
       "9            22  \n",
       "10          628  \n",
       "11          314  \n",
       "12          417  \n",
       "13          338  \n",
       "14          512  \n",
       "15          357  \n",
       "16         1256  \n",
       "17          334  \n",
       "18          605  "
      ]
     },
     "execution_count": 31,
     "metadata": {},
     "output_type": "execute_result"
    }
   ],
   "source": [
    "popularity_recommendation = dataset.groupby(['product','product_category']).count().reset_index()\n",
    "popularity_recommendation"
   ]
  },
  {
   "cell_type": "code",
   "execution_count": 33,
   "id": "c1a6a7cb",
   "metadata": {},
   "outputs": [
    {
     "data": {
      "application/vnd.microsoft.datawrangler.viewer.v0+json": {
       "columns": [
        {
         "name": "index",
         "rawType": "int64",
         "type": "integer"
        },
        {
         "name": "product",
         "rawType": "object",
         "type": "string"
        },
        {
         "name": "product_category",
         "rawType": "object",
         "type": "string"
        },
        {
         "name": "number_of_transactions",
         "rawType": "int64",
         "type": "integer"
        }
       ],
       "ref": "94dd4056-f68e-4fb3-b834-c907a9f6712c",
       "rows": [
        [
         "0",
         "Almond Croissant",
         "Bakery",
         "347"
        ],
        [
         "1",
         "Cappuccino",
         "Coffee",
         "1290"
        ],
        [
         "2",
         "Carmel syrup",
         "Flavours",
         "561"
        ],
        [
         "3",
         "Chocolate Chip Biscotti",
         "Bakery",
         "352"
        ],
        [
         "4",
         "Chocolate Croissant",
         "Bakery",
         "636"
        ],
        [
         "5",
         "Chocolate syrup",
         "Flavours",
         "568"
        ],
        [
         "6",
         "Cranberry Scone",
         "Bakery",
         "350"
        ],
        [
         "7",
         "Croissant",
         "Bakery",
         "355"
        ],
        [
         "8",
         "Dark chocolate",
         "Drinking Chocolate",
         "947"
        ],
        [
         "9",
         "Dark chocolate",
         "Packaged Chocolate",
         "22"
        ],
        [
         "10",
         "Espresso shot",
         "Coffee",
         "628"
        ],
        [
         "11",
         "Ginger Biscotti",
         "Bakery",
         "314"
        ],
        [
         "12",
         "Ginger Scone",
         "Bakery",
         "417"
        ],
        [
         "13",
         "Hazelnut Biscotti",
         "Bakery",
         "338"
        ],
        [
         "14",
         "Hazelnut syrup",
         "Flavours",
         "512"
        ],
        [
         "15",
         "Jumbo Savory Scone",
         "Bakery",
         "357"
        ],
        [
         "16",
         "Latte",
         "Coffee",
         "1256"
        ],
        [
         "17",
         "Oatmeal Scone",
         "Bakery",
         "334"
        ],
        [
         "18",
         "Sugar Free Vanilla syrup",
         "Flavours",
         "605"
        ]
       ],
       "shape": {
        "columns": 3,
        "rows": 19
       }
      },
      "text/html": [
       "<div>\n",
       "<style scoped>\n",
       "    .dataframe tbody tr th:only-of-type {\n",
       "        vertical-align: middle;\n",
       "    }\n",
       "\n",
       "    .dataframe tbody tr th {\n",
       "        vertical-align: top;\n",
       "    }\n",
       "\n",
       "    .dataframe thead th {\n",
       "        text-align: right;\n",
       "    }\n",
       "</style>\n",
       "<table border=\"1\" class=\"dataframe\">\n",
       "  <thead>\n",
       "    <tr style=\"text-align: right;\">\n",
       "      <th></th>\n",
       "      <th>product</th>\n",
       "      <th>product_category</th>\n",
       "      <th>number_of_transactions</th>\n",
       "    </tr>\n",
       "  </thead>\n",
       "  <tbody>\n",
       "    <tr>\n",
       "      <th>0</th>\n",
       "      <td>Almond Croissant</td>\n",
       "      <td>Bakery</td>\n",
       "      <td>347</td>\n",
       "    </tr>\n",
       "    <tr>\n",
       "      <th>1</th>\n",
       "      <td>Cappuccino</td>\n",
       "      <td>Coffee</td>\n",
       "      <td>1290</td>\n",
       "    </tr>\n",
       "    <tr>\n",
       "      <th>2</th>\n",
       "      <td>Carmel syrup</td>\n",
       "      <td>Flavours</td>\n",
       "      <td>561</td>\n",
       "    </tr>\n",
       "    <tr>\n",
       "      <th>3</th>\n",
       "      <td>Chocolate Chip Biscotti</td>\n",
       "      <td>Bakery</td>\n",
       "      <td>352</td>\n",
       "    </tr>\n",
       "    <tr>\n",
       "      <th>4</th>\n",
       "      <td>Chocolate Croissant</td>\n",
       "      <td>Bakery</td>\n",
       "      <td>636</td>\n",
       "    </tr>\n",
       "    <tr>\n",
       "      <th>5</th>\n",
       "      <td>Chocolate syrup</td>\n",
       "      <td>Flavours</td>\n",
       "      <td>568</td>\n",
       "    </tr>\n",
       "    <tr>\n",
       "      <th>6</th>\n",
       "      <td>Cranberry Scone</td>\n",
       "      <td>Bakery</td>\n",
       "      <td>350</td>\n",
       "    </tr>\n",
       "    <tr>\n",
       "      <th>7</th>\n",
       "      <td>Croissant</td>\n",
       "      <td>Bakery</td>\n",
       "      <td>355</td>\n",
       "    </tr>\n",
       "    <tr>\n",
       "      <th>8</th>\n",
       "      <td>Dark chocolate</td>\n",
       "      <td>Drinking Chocolate</td>\n",
       "      <td>947</td>\n",
       "    </tr>\n",
       "    <tr>\n",
       "      <th>9</th>\n",
       "      <td>Dark chocolate</td>\n",
       "      <td>Packaged Chocolate</td>\n",
       "      <td>22</td>\n",
       "    </tr>\n",
       "    <tr>\n",
       "      <th>10</th>\n",
       "      <td>Espresso shot</td>\n",
       "      <td>Coffee</td>\n",
       "      <td>628</td>\n",
       "    </tr>\n",
       "    <tr>\n",
       "      <th>11</th>\n",
       "      <td>Ginger Biscotti</td>\n",
       "      <td>Bakery</td>\n",
       "      <td>314</td>\n",
       "    </tr>\n",
       "    <tr>\n",
       "      <th>12</th>\n",
       "      <td>Ginger Scone</td>\n",
       "      <td>Bakery</td>\n",
       "      <td>417</td>\n",
       "    </tr>\n",
       "    <tr>\n",
       "      <th>13</th>\n",
       "      <td>Hazelnut Biscotti</td>\n",
       "      <td>Bakery</td>\n",
       "      <td>338</td>\n",
       "    </tr>\n",
       "    <tr>\n",
       "      <th>14</th>\n",
       "      <td>Hazelnut syrup</td>\n",
       "      <td>Flavours</td>\n",
       "      <td>512</td>\n",
       "    </tr>\n",
       "    <tr>\n",
       "      <th>15</th>\n",
       "      <td>Jumbo Savory Scone</td>\n",
       "      <td>Bakery</td>\n",
       "      <td>357</td>\n",
       "    </tr>\n",
       "    <tr>\n",
       "      <th>16</th>\n",
       "      <td>Latte</td>\n",
       "      <td>Coffee</td>\n",
       "      <td>1256</td>\n",
       "    </tr>\n",
       "    <tr>\n",
       "      <th>17</th>\n",
       "      <td>Oatmeal Scone</td>\n",
       "      <td>Bakery</td>\n",
       "      <td>334</td>\n",
       "    </tr>\n",
       "    <tr>\n",
       "      <th>18</th>\n",
       "      <td>Sugar Free Vanilla syrup</td>\n",
       "      <td>Flavours</td>\n",
       "      <td>605</td>\n",
       "    </tr>\n",
       "  </tbody>\n",
       "</table>\n",
       "</div>"
      ],
      "text/plain": [
       "                     product    product_category  number_of_transactions\n",
       "0           Almond Croissant              Bakery                     347\n",
       "1                 Cappuccino              Coffee                    1290\n",
       "2               Carmel syrup            Flavours                     561\n",
       "3    Chocolate Chip Biscotti              Bakery                     352\n",
       "4        Chocolate Croissant              Bakery                     636\n",
       "5            Chocolate syrup            Flavours                     568\n",
       "6            Cranberry Scone              Bakery                     350\n",
       "7                  Croissant              Bakery                     355\n",
       "8             Dark chocolate  Drinking Chocolate                     947\n",
       "9             Dark chocolate  Packaged Chocolate                      22\n",
       "10             Espresso shot              Coffee                     628\n",
       "11           Ginger Biscotti              Bakery                     314\n",
       "12              Ginger Scone              Bakery                     417\n",
       "13         Hazelnut Biscotti              Bakery                     338\n",
       "14            Hazelnut syrup            Flavours                     512\n",
       "15        Jumbo Savory Scone              Bakery                     357\n",
       "16                     Latte              Coffee                    1256\n",
       "17             Oatmeal Scone              Bakery                     334\n",
       "18  Sugar Free Vanilla syrup            Flavours                     605"
      ]
     },
     "execution_count": 33,
     "metadata": {},
     "output_type": "execute_result"
    }
   ],
   "source": [
    "popularity_recommendation = popularity_recommendation[['product','product_category','transaction_id']]\n",
    "popularity_recommendation = popularity_recommendation.rename(columns = {'transaction_id':'number_of_transactions'})\n",
    "popularity_recommendation"
   ]
  },
  {
   "cell_type": "code",
   "execution_count": 35,
   "id": "e0e11cf5",
   "metadata": {},
   "outputs": [],
   "source": [
    "popularity_recommendation.to_csv('api/recommendation_objects/popularity_recommendation.csv',index=False)"
   ]
  },
  {
   "cell_type": "code",
   "execution_count": null,
   "id": "68567444",
   "metadata": {},
   "outputs": [],
   "source": []
  },
  {
   "cell_type": "markdown",
   "id": "ac8d3c71",
   "metadata": {},
   "source": [
    "# Apriori Recommendation Engine"
   ]
  },
  {
   "cell_type": "code",
   "execution_count": 39,
   "id": "ce5a0b79",
   "metadata": {},
   "outputs": [
    {
     "data": {
      "application/vnd.microsoft.datawrangler.viewer.v0+json": {
       "columns": [
        {
         "name": "index",
         "rawType": "int64",
         "type": "integer"
        },
        {
         "name": "transaction",
         "rawType": "object",
         "type": "string"
        },
        {
         "name": "product",
         "rawType": "object",
         "type": "string"
        },
        {
         "name": "Count",
         "rawType": "int64",
         "type": "integer"
        }
       ],
       "ref": "3e974659-69d5-4dae-8294-337b3250cea8",
       "rows": [
        [
         "0",
         "1000_0",
         "Dark chocolate",
         "1"
        ],
        [
         "1",
         "1000_0",
         "Oatmeal Scone",
         "1"
        ],
        [
         "2",
         "1001_8306",
         "Cappuccino",
         "1"
        ],
        [
         "3",
         "1001_8306",
         "Carmel syrup",
         "1"
        ],
        [
         "4",
         "1002_0",
         "Carmel syrup",
         "1"
        ],
        [
         "5",
         "1002_0",
         "Dark chocolate",
         "2"
        ],
        [
         "6",
         "1002_0",
         "Espresso shot",
         "1"
        ],
        [
         "7",
         "1002_0",
         "Ginger Scone",
         "1"
        ],
        [
         "8",
         "1004_5383",
         "Chocolate syrup",
         "1"
        ],
        [
         "9",
         "1004_5383",
         "Latte",
         "1"
        ]
       ],
       "shape": {
        "columns": 3,
        "rows": 10
       }
      },
      "text/html": [
       "<div>\n",
       "<style scoped>\n",
       "    .dataframe tbody tr th:only-of-type {\n",
       "        vertical-align: middle;\n",
       "    }\n",
       "\n",
       "    .dataframe tbody tr th {\n",
       "        vertical-align: top;\n",
       "    }\n",
       "\n",
       "    .dataframe thead th {\n",
       "        text-align: right;\n",
       "    }\n",
       "</style>\n",
       "<table border=\"1\" class=\"dataframe\">\n",
       "  <thead>\n",
       "    <tr style=\"text-align: right;\">\n",
       "      <th></th>\n",
       "      <th>transaction</th>\n",
       "      <th>product</th>\n",
       "      <th>Count</th>\n",
       "    </tr>\n",
       "  </thead>\n",
       "  <tbody>\n",
       "    <tr>\n",
       "      <th>0</th>\n",
       "      <td>1000_0</td>\n",
       "      <td>Dark chocolate</td>\n",
       "      <td>1</td>\n",
       "    </tr>\n",
       "    <tr>\n",
       "      <th>1</th>\n",
       "      <td>1000_0</td>\n",
       "      <td>Oatmeal Scone</td>\n",
       "      <td>1</td>\n",
       "    </tr>\n",
       "    <tr>\n",
       "      <th>2</th>\n",
       "      <td>1001_8306</td>\n",
       "      <td>Cappuccino</td>\n",
       "      <td>1</td>\n",
       "    </tr>\n",
       "    <tr>\n",
       "      <th>3</th>\n",
       "      <td>1001_8306</td>\n",
       "      <td>Carmel syrup</td>\n",
       "      <td>1</td>\n",
       "    </tr>\n",
       "    <tr>\n",
       "      <th>4</th>\n",
       "      <td>1002_0</td>\n",
       "      <td>Carmel syrup</td>\n",
       "      <td>1</td>\n",
       "    </tr>\n",
       "    <tr>\n",
       "      <th>5</th>\n",
       "      <td>1002_0</td>\n",
       "      <td>Dark chocolate</td>\n",
       "      <td>2</td>\n",
       "    </tr>\n",
       "    <tr>\n",
       "      <th>6</th>\n",
       "      <td>1002_0</td>\n",
       "      <td>Espresso shot</td>\n",
       "      <td>1</td>\n",
       "    </tr>\n",
       "    <tr>\n",
       "      <th>7</th>\n",
       "      <td>1002_0</td>\n",
       "      <td>Ginger Scone</td>\n",
       "      <td>1</td>\n",
       "    </tr>\n",
       "    <tr>\n",
       "      <th>8</th>\n",
       "      <td>1004_5383</td>\n",
       "      <td>Chocolate syrup</td>\n",
       "      <td>1</td>\n",
       "    </tr>\n",
       "    <tr>\n",
       "      <th>9</th>\n",
       "      <td>1004_5383</td>\n",
       "      <td>Latte</td>\n",
       "      <td>1</td>\n",
       "    </tr>\n",
       "  </tbody>\n",
       "</table>\n",
       "</div>"
      ],
      "text/plain": [
       "  transaction          product  Count\n",
       "0      1000_0   Dark chocolate      1\n",
       "1      1000_0    Oatmeal Scone      1\n",
       "2   1001_8306       Cappuccino      1\n",
       "3   1001_8306     Carmel syrup      1\n",
       "4      1002_0     Carmel syrup      1\n",
       "5      1002_0   Dark chocolate      2\n",
       "6      1002_0    Espresso shot      1\n",
       "7      1002_0     Ginger Scone      1\n",
       "8   1004_5383  Chocolate syrup      1\n",
       "9   1004_5383            Latte      1"
      ]
     },
     "execution_count": 39,
     "metadata": {},
     "output_type": "execute_result"
    }
   ],
   "source": [
    "train_basket = (dataset.groupby(['transaction','product'])['product'].count().reset_index(name ='Count'))\n",
    "train_basket.head(10)"
   ]
  },
  {
   "cell_type": "code",
   "execution_count": 40,
   "id": "22668201",
   "metadata": {},
   "outputs": [
    {
     "data": {
      "application/vnd.microsoft.datawrangler.viewer.v0+json": {
       "columns": [
        {
         "name": "transaction",
         "rawType": "object",
         "type": "string"
        },
        {
         "name": "Almond Croissant",
         "rawType": "float64",
         "type": "float"
        },
        {
         "name": "Cappuccino",
         "rawType": "float64",
         "type": "float"
        },
        {
         "name": "Carmel syrup",
         "rawType": "float64",
         "type": "float"
        },
        {
         "name": "Chocolate Chip Biscotti",
         "rawType": "float64",
         "type": "float"
        },
        {
         "name": "Chocolate Croissant",
         "rawType": "float64",
         "type": "float"
        },
        {
         "name": "Chocolate syrup",
         "rawType": "float64",
         "type": "float"
        },
        {
         "name": "Cranberry Scone",
         "rawType": "float64",
         "type": "float"
        },
        {
         "name": "Croissant",
         "rawType": "float64",
         "type": "float"
        },
        {
         "name": "Dark chocolate",
         "rawType": "float64",
         "type": "float"
        },
        {
         "name": "Espresso shot",
         "rawType": "float64",
         "type": "float"
        },
        {
         "name": "Ginger Biscotti",
         "rawType": "float64",
         "type": "float"
        },
        {
         "name": "Ginger Scone",
         "rawType": "float64",
         "type": "float"
        },
        {
         "name": "Hazelnut Biscotti",
         "rawType": "float64",
         "type": "float"
        },
        {
         "name": "Hazelnut syrup",
         "rawType": "float64",
         "type": "float"
        },
        {
         "name": "Jumbo Savory Scone",
         "rawType": "float64",
         "type": "float"
        },
        {
         "name": "Latte",
         "rawType": "float64",
         "type": "float"
        },
        {
         "name": "Oatmeal Scone",
         "rawType": "float64",
         "type": "float"
        },
        {
         "name": "Sugar Free Vanilla syrup",
         "rawType": "float64",
         "type": "float"
        }
       ],
       "ref": "3c16004f-a2e4-45dc-a39d-bfd622009d95",
       "rows": [
        [
         "1000_0",
         "0.0",
         "0.0",
         "0.0",
         "0.0",
         "0.0",
         "0.0",
         "0.0",
         "0.0",
         "1.0",
         "0.0",
         "0.0",
         "0.0",
         "0.0",
         "0.0",
         "0.0",
         "0.0",
         "1.0",
         "0.0"
        ],
        [
         "1001_8306",
         "0.0",
         "1.0",
         "1.0",
         "0.0",
         "0.0",
         "0.0",
         "0.0",
         "0.0",
         "0.0",
         "0.0",
         "0.0",
         "0.0",
         "0.0",
         "0.0",
         "0.0",
         "0.0",
         "0.0",
         "0.0"
        ],
        [
         "1002_0",
         "0.0",
         "0.0",
         "1.0",
         "0.0",
         "0.0",
         "0.0",
         "0.0",
         "0.0",
         "2.0",
         "1.0",
         "0.0",
         "1.0",
         "0.0",
         "0.0",
         "0.0",
         "0.0",
         "0.0",
         "0.0"
        ],
        [
         "1004_5383",
         "0.0",
         "0.0",
         "0.0",
         "0.0",
         "0.0",
         "1.0",
         "0.0",
         "0.0",
         "0.0",
         "0.0",
         "0.0",
         "0.0",
         "0.0",
         "0.0",
         "0.0",
         "1.0",
         "0.0",
         "0.0"
        ],
        [
         "1005_0",
         "0.0",
         "0.0",
         "0.0",
         "0.0",
         "0.0",
         "0.0",
         "0.0",
         "0.0",
         "0.0",
         "0.0",
         "0.0",
         "0.0",
         "0.0",
         "0.0",
         "2.0",
         "1.0",
         "0.0",
         "0.0"
        ]
       ],
       "shape": {
        "columns": 18,
        "rows": 5
       }
      },
      "text/html": [
       "<div>\n",
       "<style scoped>\n",
       "    .dataframe tbody tr th:only-of-type {\n",
       "        vertical-align: middle;\n",
       "    }\n",
       "\n",
       "    .dataframe tbody tr th {\n",
       "        vertical-align: top;\n",
       "    }\n",
       "\n",
       "    .dataframe thead th {\n",
       "        text-align: right;\n",
       "    }\n",
       "</style>\n",
       "<table border=\"1\" class=\"dataframe\">\n",
       "  <thead>\n",
       "    <tr style=\"text-align: right;\">\n",
       "      <th>product</th>\n",
       "      <th>Almond Croissant</th>\n",
       "      <th>Cappuccino</th>\n",
       "      <th>Carmel syrup</th>\n",
       "      <th>Chocolate Chip Biscotti</th>\n",
       "      <th>Chocolate Croissant</th>\n",
       "      <th>Chocolate syrup</th>\n",
       "      <th>Cranberry Scone</th>\n",
       "      <th>Croissant</th>\n",
       "      <th>Dark chocolate</th>\n",
       "      <th>Espresso shot</th>\n",
       "      <th>Ginger Biscotti</th>\n",
       "      <th>Ginger Scone</th>\n",
       "      <th>Hazelnut Biscotti</th>\n",
       "      <th>Hazelnut syrup</th>\n",
       "      <th>Jumbo Savory Scone</th>\n",
       "      <th>Latte</th>\n",
       "      <th>Oatmeal Scone</th>\n",
       "      <th>Sugar Free Vanilla syrup</th>\n",
       "    </tr>\n",
       "    <tr>\n",
       "      <th>transaction</th>\n",
       "      <th></th>\n",
       "      <th></th>\n",
       "      <th></th>\n",
       "      <th></th>\n",
       "      <th></th>\n",
       "      <th></th>\n",
       "      <th></th>\n",
       "      <th></th>\n",
       "      <th></th>\n",
       "      <th></th>\n",
       "      <th></th>\n",
       "      <th></th>\n",
       "      <th></th>\n",
       "      <th></th>\n",
       "      <th></th>\n",
       "      <th></th>\n",
       "      <th></th>\n",
       "      <th></th>\n",
       "    </tr>\n",
       "  </thead>\n",
       "  <tbody>\n",
       "    <tr>\n",
       "      <th>1000_0</th>\n",
       "      <td>0.0</td>\n",
       "      <td>0.0</td>\n",
       "      <td>0.0</td>\n",
       "      <td>0.0</td>\n",
       "      <td>0.0</td>\n",
       "      <td>0.0</td>\n",
       "      <td>0.0</td>\n",
       "      <td>0.0</td>\n",
       "      <td>1.0</td>\n",
       "      <td>0.0</td>\n",
       "      <td>0.0</td>\n",
       "      <td>0.0</td>\n",
       "      <td>0.0</td>\n",
       "      <td>0.0</td>\n",
       "      <td>0.0</td>\n",
       "      <td>0.0</td>\n",
       "      <td>1.0</td>\n",
       "      <td>0.0</td>\n",
       "    </tr>\n",
       "    <tr>\n",
       "      <th>1001_8306</th>\n",
       "      <td>0.0</td>\n",
       "      <td>1.0</td>\n",
       "      <td>1.0</td>\n",
       "      <td>0.0</td>\n",
       "      <td>0.0</td>\n",
       "      <td>0.0</td>\n",
       "      <td>0.0</td>\n",
       "      <td>0.0</td>\n",
       "      <td>0.0</td>\n",
       "      <td>0.0</td>\n",
       "      <td>0.0</td>\n",
       "      <td>0.0</td>\n",
       "      <td>0.0</td>\n",
       "      <td>0.0</td>\n",
       "      <td>0.0</td>\n",
       "      <td>0.0</td>\n",
       "      <td>0.0</td>\n",
       "      <td>0.0</td>\n",
       "    </tr>\n",
       "    <tr>\n",
       "      <th>1002_0</th>\n",
       "      <td>0.0</td>\n",
       "      <td>0.0</td>\n",
       "      <td>1.0</td>\n",
       "      <td>0.0</td>\n",
       "      <td>0.0</td>\n",
       "      <td>0.0</td>\n",
       "      <td>0.0</td>\n",
       "      <td>0.0</td>\n",
       "      <td>2.0</td>\n",
       "      <td>1.0</td>\n",
       "      <td>0.0</td>\n",
       "      <td>1.0</td>\n",
       "      <td>0.0</td>\n",
       "      <td>0.0</td>\n",
       "      <td>0.0</td>\n",
       "      <td>0.0</td>\n",
       "      <td>0.0</td>\n",
       "      <td>0.0</td>\n",
       "    </tr>\n",
       "    <tr>\n",
       "      <th>1004_5383</th>\n",
       "      <td>0.0</td>\n",
       "      <td>0.0</td>\n",
       "      <td>0.0</td>\n",
       "      <td>0.0</td>\n",
       "      <td>0.0</td>\n",
       "      <td>1.0</td>\n",
       "      <td>0.0</td>\n",
       "      <td>0.0</td>\n",
       "      <td>0.0</td>\n",
       "      <td>0.0</td>\n",
       "      <td>0.0</td>\n",
       "      <td>0.0</td>\n",
       "      <td>0.0</td>\n",
       "      <td>0.0</td>\n",
       "      <td>0.0</td>\n",
       "      <td>1.0</td>\n",
       "      <td>0.0</td>\n",
       "      <td>0.0</td>\n",
       "    </tr>\n",
       "    <tr>\n",
       "      <th>1005_0</th>\n",
       "      <td>0.0</td>\n",
       "      <td>0.0</td>\n",
       "      <td>0.0</td>\n",
       "      <td>0.0</td>\n",
       "      <td>0.0</td>\n",
       "      <td>0.0</td>\n",
       "      <td>0.0</td>\n",
       "      <td>0.0</td>\n",
       "      <td>0.0</td>\n",
       "      <td>0.0</td>\n",
       "      <td>0.0</td>\n",
       "      <td>0.0</td>\n",
       "      <td>0.0</td>\n",
       "      <td>0.0</td>\n",
       "      <td>2.0</td>\n",
       "      <td>1.0</td>\n",
       "      <td>0.0</td>\n",
       "      <td>0.0</td>\n",
       "    </tr>\n",
       "  </tbody>\n",
       "</table>\n",
       "</div>"
      ],
      "text/plain": [
       "product      Almond Croissant  Cappuccino  Carmel syrup  \\\n",
       "transaction                                               \n",
       "1000_0                    0.0         0.0           0.0   \n",
       "1001_8306                 0.0         1.0           1.0   \n",
       "1002_0                    0.0         0.0           1.0   \n",
       "1004_5383                 0.0         0.0           0.0   \n",
       "1005_0                    0.0         0.0           0.0   \n",
       "\n",
       "product      Chocolate Chip Biscotti  Chocolate Croissant  Chocolate syrup  \\\n",
       "transaction                                                                  \n",
       "1000_0                           0.0                  0.0              0.0   \n",
       "1001_8306                        0.0                  0.0              0.0   \n",
       "1002_0                           0.0                  0.0              0.0   \n",
       "1004_5383                        0.0                  0.0              1.0   \n",
       "1005_0                           0.0                  0.0              0.0   \n",
       "\n",
       "product      Cranberry Scone  Croissant  Dark chocolate  Espresso shot  \\\n",
       "transaction                                                              \n",
       "1000_0                   0.0        0.0             1.0            0.0   \n",
       "1001_8306                0.0        0.0             0.0            0.0   \n",
       "1002_0                   0.0        0.0             2.0            1.0   \n",
       "1004_5383                0.0        0.0             0.0            0.0   \n",
       "1005_0                   0.0        0.0             0.0            0.0   \n",
       "\n",
       "product      Ginger Biscotti  Ginger Scone  Hazelnut Biscotti  Hazelnut syrup  \\\n",
       "transaction                                                                     \n",
       "1000_0                   0.0           0.0                0.0             0.0   \n",
       "1001_8306                0.0           0.0                0.0             0.0   \n",
       "1002_0                   0.0           1.0                0.0             0.0   \n",
       "1004_5383                0.0           0.0                0.0             0.0   \n",
       "1005_0                   0.0           0.0                0.0             0.0   \n",
       "\n",
       "product      Jumbo Savory Scone  Latte  Oatmeal Scone  \\\n",
       "transaction                                             \n",
       "1000_0                      0.0    0.0            1.0   \n",
       "1001_8306                   0.0    0.0            0.0   \n",
       "1002_0                      0.0    0.0            0.0   \n",
       "1004_5383                   0.0    1.0            0.0   \n",
       "1005_0                      2.0    1.0            0.0   \n",
       "\n",
       "product      Sugar Free Vanilla syrup  \n",
       "transaction                            \n",
       "1000_0                            0.0  \n",
       "1001_8306                         0.0  \n",
       "1002_0                            0.0  \n",
       "1004_5383                         0.0  \n",
       "1005_0                            0.0  "
      ]
     },
     "execution_count": 40,
     "metadata": {},
     "output_type": "execute_result"
    }
   ],
   "source": [
    "my_basket = train_basket.pivot_table(index='transaction', columns='product', values='Count', aggfunc='sum').fillna(0)\n",
    "my_basket.head()"
   ]
  },
  {
   "cell_type": "code",
   "execution_count": null,
   "id": "8cbeae6a",
   "metadata": {},
   "outputs": [],
   "source": []
  },
  {
   "cell_type": "code",
   "execution_count": 41,
   "id": "134aa382",
   "metadata": {},
   "outputs": [
    {
     "name": "stderr",
     "output_type": "stream",
     "text": [
      "C:\\Users\\kiran\\AppData\\Local\\Temp\\ipykernel_36024\\1756069047.py:7: FutureWarning: DataFrame.applymap has been deprecated. Use DataFrame.map instead.\n",
      "  my_basket_sets = my_basket.applymap(encode_units)\n"
     ]
    },
    {
     "data": {
      "application/vnd.microsoft.datawrangler.viewer.v0+json": {
       "columns": [
        {
         "name": "transaction",
         "rawType": "object",
         "type": "string"
        },
        {
         "name": "Almond Croissant",
         "rawType": "int64",
         "type": "integer"
        },
        {
         "name": "Cappuccino",
         "rawType": "int64",
         "type": "integer"
        },
        {
         "name": "Carmel syrup",
         "rawType": "int64",
         "type": "integer"
        },
        {
         "name": "Chocolate Chip Biscotti",
         "rawType": "int64",
         "type": "integer"
        },
        {
         "name": "Chocolate Croissant",
         "rawType": "int64",
         "type": "integer"
        },
        {
         "name": "Chocolate syrup",
         "rawType": "int64",
         "type": "integer"
        },
        {
         "name": "Cranberry Scone",
         "rawType": "int64",
         "type": "integer"
        },
        {
         "name": "Croissant",
         "rawType": "int64",
         "type": "integer"
        },
        {
         "name": "Dark chocolate",
         "rawType": "int64",
         "type": "integer"
        },
        {
         "name": "Espresso shot",
         "rawType": "int64",
         "type": "integer"
        },
        {
         "name": "Ginger Biscotti",
         "rawType": "int64",
         "type": "integer"
        },
        {
         "name": "Ginger Scone",
         "rawType": "int64",
         "type": "integer"
        },
        {
         "name": "Hazelnut Biscotti",
         "rawType": "int64",
         "type": "integer"
        },
        {
         "name": "Hazelnut syrup",
         "rawType": "int64",
         "type": "integer"
        },
        {
         "name": "Jumbo Savory Scone",
         "rawType": "int64",
         "type": "integer"
        },
        {
         "name": "Latte",
         "rawType": "int64",
         "type": "integer"
        },
        {
         "name": "Oatmeal Scone",
         "rawType": "int64",
         "type": "integer"
        },
        {
         "name": "Sugar Free Vanilla syrup",
         "rawType": "int64",
         "type": "integer"
        }
       ],
       "ref": "70d13d72-10cb-46cf-8091-b881e1d4fb8e",
       "rows": [
        [
         "1000_0",
         "0",
         "0",
         "0",
         "0",
         "0",
         "0",
         "0",
         "0",
         "1",
         "0",
         "0",
         "0",
         "0",
         "0",
         "0",
         "0",
         "1",
         "0"
        ],
        [
         "1001_8306",
         "0",
         "1",
         "1",
         "0",
         "0",
         "0",
         "0",
         "0",
         "0",
         "0",
         "0",
         "0",
         "0",
         "0",
         "0",
         "0",
         "0",
         "0"
        ],
        [
         "1002_0",
         "0",
         "0",
         "1",
         "0",
         "0",
         "0",
         "0",
         "0",
         "1",
         "1",
         "0",
         "1",
         "0",
         "0",
         "0",
         "0",
         "0",
         "0"
        ],
        [
         "1004_5383",
         "0",
         "0",
         "0",
         "0",
         "0",
         "1",
         "0",
         "0",
         "0",
         "0",
         "0",
         "0",
         "0",
         "0",
         "0",
         "1",
         "0",
         "0"
        ],
        [
         "1005_0",
         "0",
         "0",
         "0",
         "0",
         "0",
         "0",
         "0",
         "0",
         "0",
         "0",
         "0",
         "0",
         "0",
         "0",
         "1",
         "1",
         "0",
         "0"
        ],
        [
         "1005_5559",
         "0",
         "0",
         "0",
         "0",
         "0",
         "0",
         "0",
         "0",
         "0",
         "0",
         "0",
         "0",
         "0",
         "0",
         "0",
         "1",
         "0",
         "1"
        ],
        [
         "1006_0",
         "1",
         "1",
         "0",
         "0",
         "0",
         "0",
         "0",
         "0",
         "0",
         "1",
         "0",
         "0",
         "0",
         "0",
         "0",
         "0",
         "0",
         "0"
        ],
        [
         "1007_8375",
         "0",
         "0",
         "0",
         "0",
         "0",
         "0",
         "0",
         "0",
         "0",
         "1",
         "0",
         "0",
         "0",
         "1",
         "0",
         "0",
         "0",
         "0"
        ],
        [
         "1008_0",
         "0",
         "0",
         "1",
         "0",
         "0",
         "0",
         "0",
         "0",
         "0",
         "0",
         "0",
         "1",
         "0",
         "0",
         "0",
         "1",
         "0",
         "0"
        ],
        [
         "1009_5183",
         "0",
         "0",
         "0",
         "0",
         "0",
         "0",
         "0",
         "0",
         "0",
         "0",
         "0",
         "0",
         "0",
         "0",
         "0",
         "1",
         "0",
         "1"
        ]
       ],
       "shape": {
        "columns": 18,
        "rows": 10
       }
      },
      "text/html": [
       "<div>\n",
       "<style scoped>\n",
       "    .dataframe tbody tr th:only-of-type {\n",
       "        vertical-align: middle;\n",
       "    }\n",
       "\n",
       "    .dataframe tbody tr th {\n",
       "        vertical-align: top;\n",
       "    }\n",
       "\n",
       "    .dataframe thead th {\n",
       "        text-align: right;\n",
       "    }\n",
       "</style>\n",
       "<table border=\"1\" class=\"dataframe\">\n",
       "  <thead>\n",
       "    <tr style=\"text-align: right;\">\n",
       "      <th>product</th>\n",
       "      <th>Almond Croissant</th>\n",
       "      <th>Cappuccino</th>\n",
       "      <th>Carmel syrup</th>\n",
       "      <th>Chocolate Chip Biscotti</th>\n",
       "      <th>Chocolate Croissant</th>\n",
       "      <th>Chocolate syrup</th>\n",
       "      <th>Cranberry Scone</th>\n",
       "      <th>Croissant</th>\n",
       "      <th>Dark chocolate</th>\n",
       "      <th>Espresso shot</th>\n",
       "      <th>Ginger Biscotti</th>\n",
       "      <th>Ginger Scone</th>\n",
       "      <th>Hazelnut Biscotti</th>\n",
       "      <th>Hazelnut syrup</th>\n",
       "      <th>Jumbo Savory Scone</th>\n",
       "      <th>Latte</th>\n",
       "      <th>Oatmeal Scone</th>\n",
       "      <th>Sugar Free Vanilla syrup</th>\n",
       "    </tr>\n",
       "    <tr>\n",
       "      <th>transaction</th>\n",
       "      <th></th>\n",
       "      <th></th>\n",
       "      <th></th>\n",
       "      <th></th>\n",
       "      <th></th>\n",
       "      <th></th>\n",
       "      <th></th>\n",
       "      <th></th>\n",
       "      <th></th>\n",
       "      <th></th>\n",
       "      <th></th>\n",
       "      <th></th>\n",
       "      <th></th>\n",
       "      <th></th>\n",
       "      <th></th>\n",
       "      <th></th>\n",
       "      <th></th>\n",
       "      <th></th>\n",
       "    </tr>\n",
       "  </thead>\n",
       "  <tbody>\n",
       "    <tr>\n",
       "      <th>1000_0</th>\n",
       "      <td>0</td>\n",
       "      <td>0</td>\n",
       "      <td>0</td>\n",
       "      <td>0</td>\n",
       "      <td>0</td>\n",
       "      <td>0</td>\n",
       "      <td>0</td>\n",
       "      <td>0</td>\n",
       "      <td>1</td>\n",
       "      <td>0</td>\n",
       "      <td>0</td>\n",
       "      <td>0</td>\n",
       "      <td>0</td>\n",
       "      <td>0</td>\n",
       "      <td>0</td>\n",
       "      <td>0</td>\n",
       "      <td>1</td>\n",
       "      <td>0</td>\n",
       "    </tr>\n",
       "    <tr>\n",
       "      <th>1001_8306</th>\n",
       "      <td>0</td>\n",
       "      <td>1</td>\n",
       "      <td>1</td>\n",
       "      <td>0</td>\n",
       "      <td>0</td>\n",
       "      <td>0</td>\n",
       "      <td>0</td>\n",
       "      <td>0</td>\n",
       "      <td>0</td>\n",
       "      <td>0</td>\n",
       "      <td>0</td>\n",
       "      <td>0</td>\n",
       "      <td>0</td>\n",
       "      <td>0</td>\n",
       "      <td>0</td>\n",
       "      <td>0</td>\n",
       "      <td>0</td>\n",
       "      <td>0</td>\n",
       "    </tr>\n",
       "    <tr>\n",
       "      <th>1002_0</th>\n",
       "      <td>0</td>\n",
       "      <td>0</td>\n",
       "      <td>1</td>\n",
       "      <td>0</td>\n",
       "      <td>0</td>\n",
       "      <td>0</td>\n",
       "      <td>0</td>\n",
       "      <td>0</td>\n",
       "      <td>1</td>\n",
       "      <td>1</td>\n",
       "      <td>0</td>\n",
       "      <td>1</td>\n",
       "      <td>0</td>\n",
       "      <td>0</td>\n",
       "      <td>0</td>\n",
       "      <td>0</td>\n",
       "      <td>0</td>\n",
       "      <td>0</td>\n",
       "    </tr>\n",
       "    <tr>\n",
       "      <th>1004_5383</th>\n",
       "      <td>0</td>\n",
       "      <td>0</td>\n",
       "      <td>0</td>\n",
       "      <td>0</td>\n",
       "      <td>0</td>\n",
       "      <td>1</td>\n",
       "      <td>0</td>\n",
       "      <td>0</td>\n",
       "      <td>0</td>\n",
       "      <td>0</td>\n",
       "      <td>0</td>\n",
       "      <td>0</td>\n",
       "      <td>0</td>\n",
       "      <td>0</td>\n",
       "      <td>0</td>\n",
       "      <td>1</td>\n",
       "      <td>0</td>\n",
       "      <td>0</td>\n",
       "    </tr>\n",
       "    <tr>\n",
       "      <th>1005_0</th>\n",
       "      <td>0</td>\n",
       "      <td>0</td>\n",
       "      <td>0</td>\n",
       "      <td>0</td>\n",
       "      <td>0</td>\n",
       "      <td>0</td>\n",
       "      <td>0</td>\n",
       "      <td>0</td>\n",
       "      <td>0</td>\n",
       "      <td>0</td>\n",
       "      <td>0</td>\n",
       "      <td>0</td>\n",
       "      <td>0</td>\n",
       "      <td>0</td>\n",
       "      <td>1</td>\n",
       "      <td>1</td>\n",
       "      <td>0</td>\n",
       "      <td>0</td>\n",
       "    </tr>\n",
       "    <tr>\n",
       "      <th>1005_5559</th>\n",
       "      <td>0</td>\n",
       "      <td>0</td>\n",
       "      <td>0</td>\n",
       "      <td>0</td>\n",
       "      <td>0</td>\n",
       "      <td>0</td>\n",
       "      <td>0</td>\n",
       "      <td>0</td>\n",
       "      <td>0</td>\n",
       "      <td>0</td>\n",
       "      <td>0</td>\n",
       "      <td>0</td>\n",
       "      <td>0</td>\n",
       "      <td>0</td>\n",
       "      <td>0</td>\n",
       "      <td>1</td>\n",
       "      <td>0</td>\n",
       "      <td>1</td>\n",
       "    </tr>\n",
       "    <tr>\n",
       "      <th>1006_0</th>\n",
       "      <td>1</td>\n",
       "      <td>1</td>\n",
       "      <td>0</td>\n",
       "      <td>0</td>\n",
       "      <td>0</td>\n",
       "      <td>0</td>\n",
       "      <td>0</td>\n",
       "      <td>0</td>\n",
       "      <td>0</td>\n",
       "      <td>1</td>\n",
       "      <td>0</td>\n",
       "      <td>0</td>\n",
       "      <td>0</td>\n",
       "      <td>0</td>\n",
       "      <td>0</td>\n",
       "      <td>0</td>\n",
       "      <td>0</td>\n",
       "      <td>0</td>\n",
       "    </tr>\n",
       "    <tr>\n",
       "      <th>1007_8375</th>\n",
       "      <td>0</td>\n",
       "      <td>0</td>\n",
       "      <td>0</td>\n",
       "      <td>0</td>\n",
       "      <td>0</td>\n",
       "      <td>0</td>\n",
       "      <td>0</td>\n",
       "      <td>0</td>\n",
       "      <td>0</td>\n",
       "      <td>1</td>\n",
       "      <td>0</td>\n",
       "      <td>0</td>\n",
       "      <td>0</td>\n",
       "      <td>1</td>\n",
       "      <td>0</td>\n",
       "      <td>0</td>\n",
       "      <td>0</td>\n",
       "      <td>0</td>\n",
       "    </tr>\n",
       "    <tr>\n",
       "      <th>1008_0</th>\n",
       "      <td>0</td>\n",
       "      <td>0</td>\n",
       "      <td>1</td>\n",
       "      <td>0</td>\n",
       "      <td>0</td>\n",
       "      <td>0</td>\n",
       "      <td>0</td>\n",
       "      <td>0</td>\n",
       "      <td>0</td>\n",
       "      <td>0</td>\n",
       "      <td>0</td>\n",
       "      <td>1</td>\n",
       "      <td>0</td>\n",
       "      <td>0</td>\n",
       "      <td>0</td>\n",
       "      <td>1</td>\n",
       "      <td>0</td>\n",
       "      <td>0</td>\n",
       "    </tr>\n",
       "    <tr>\n",
       "      <th>1009_5183</th>\n",
       "      <td>0</td>\n",
       "      <td>0</td>\n",
       "      <td>0</td>\n",
       "      <td>0</td>\n",
       "      <td>0</td>\n",
       "      <td>0</td>\n",
       "      <td>0</td>\n",
       "      <td>0</td>\n",
       "      <td>0</td>\n",
       "      <td>0</td>\n",
       "      <td>0</td>\n",
       "      <td>0</td>\n",
       "      <td>0</td>\n",
       "      <td>0</td>\n",
       "      <td>0</td>\n",
       "      <td>1</td>\n",
       "      <td>0</td>\n",
       "      <td>1</td>\n",
       "    </tr>\n",
       "  </tbody>\n",
       "</table>\n",
       "</div>"
      ],
      "text/plain": [
       "product      Almond Croissant  Cappuccino  Carmel syrup  \\\n",
       "transaction                                               \n",
       "1000_0                      0           0             0   \n",
       "1001_8306                   0           1             1   \n",
       "1002_0                      0           0             1   \n",
       "1004_5383                   0           0             0   \n",
       "1005_0                      0           0             0   \n",
       "1005_5559                   0           0             0   \n",
       "1006_0                      1           1             0   \n",
       "1007_8375                   0           0             0   \n",
       "1008_0                      0           0             1   \n",
       "1009_5183                   0           0             0   \n",
       "\n",
       "product      Chocolate Chip Biscotti  Chocolate Croissant  Chocolate syrup  \\\n",
       "transaction                                                                  \n",
       "1000_0                             0                    0                0   \n",
       "1001_8306                          0                    0                0   \n",
       "1002_0                             0                    0                0   \n",
       "1004_5383                          0                    0                1   \n",
       "1005_0                             0                    0                0   \n",
       "1005_5559                          0                    0                0   \n",
       "1006_0                             0                    0                0   \n",
       "1007_8375                          0                    0                0   \n",
       "1008_0                             0                    0                0   \n",
       "1009_5183                          0                    0                0   \n",
       "\n",
       "product      Cranberry Scone  Croissant  Dark chocolate  Espresso shot  \\\n",
       "transaction                                                              \n",
       "1000_0                     0          0               1              0   \n",
       "1001_8306                  0          0               0              0   \n",
       "1002_0                     0          0               1              1   \n",
       "1004_5383                  0          0               0              0   \n",
       "1005_0                     0          0               0              0   \n",
       "1005_5559                  0          0               0              0   \n",
       "1006_0                     0          0               0              1   \n",
       "1007_8375                  0          0               0              1   \n",
       "1008_0                     0          0               0              0   \n",
       "1009_5183                  0          0               0              0   \n",
       "\n",
       "product      Ginger Biscotti  Ginger Scone  Hazelnut Biscotti  Hazelnut syrup  \\\n",
       "transaction                                                                     \n",
       "1000_0                     0             0                  0               0   \n",
       "1001_8306                  0             0                  0               0   \n",
       "1002_0                     0             1                  0               0   \n",
       "1004_5383                  0             0                  0               0   \n",
       "1005_0                     0             0                  0               0   \n",
       "1005_5559                  0             0                  0               0   \n",
       "1006_0                     0             0                  0               0   \n",
       "1007_8375                  0             0                  0               1   \n",
       "1008_0                     0             1                  0               0   \n",
       "1009_5183                  0             0                  0               0   \n",
       "\n",
       "product      Jumbo Savory Scone  Latte  Oatmeal Scone  \\\n",
       "transaction                                             \n",
       "1000_0                        0      0              1   \n",
       "1001_8306                     0      0              0   \n",
       "1002_0                        0      0              0   \n",
       "1004_5383                     0      1              0   \n",
       "1005_0                        1      1              0   \n",
       "1005_5559                     0      1              0   \n",
       "1006_0                        0      0              0   \n",
       "1007_8375                     0      0              0   \n",
       "1008_0                        0      1              0   \n",
       "1009_5183                     0      1              0   \n",
       "\n",
       "product      Sugar Free Vanilla syrup  \n",
       "transaction                            \n",
       "1000_0                              0  \n",
       "1001_8306                           0  \n",
       "1002_0                              0  \n",
       "1004_5383                           0  \n",
       "1005_0                              0  \n",
       "1005_5559                           1  \n",
       "1006_0                              0  \n",
       "1007_8375                           0  \n",
       "1008_0                              0  \n",
       "1009_5183                           1  "
      ]
     },
     "execution_count": 41,
     "metadata": {},
     "output_type": "execute_result"
    }
   ],
   "source": [
    "def encode_units(x):\n",
    "  if x <= 0:\n",
    "    return 0\n",
    "  if x >= 0:\n",
    "    return 1\n",
    "\n",
    "my_basket_sets = my_basket.applymap(encode_units)\n",
    "my_basket_sets.head(10)"
   ]
  },
  {
   "cell_type": "code",
   "execution_count": null,
   "id": "09cdcc21",
   "metadata": {},
   "outputs": [],
   "source": []
  },
  {
   "cell_type": "code",
   "execution_count": null,
   "id": "442d4cbe",
   "metadata": {},
   "outputs": [],
   "source": []
  },
  {
   "cell_type": "code",
   "execution_count": 43,
   "id": "32de7ecd",
   "metadata": {
    "scrolled": true
   },
   "outputs": [
    {
     "name": "stderr",
     "output_type": "stream",
     "text": [
      "c:\\Users\\kiran\\OneDrive - Tulane University\\job_hunt\\job_projects\\LLMs\\cafe_project\\.venv\\Lib\\site-packages\\mlxtend\\frequent_patterns\\fpcommon.py:161: DeprecationWarning: DataFrames with non-bool types result in worse computationalperformance and their support might be discontinued in the future.Please use a DataFrame with bool type\n",
      "  warnings.warn(\n"
     ]
    },
    {
     "data": {
      "application/vnd.microsoft.datawrangler.viewer.v0+json": {
       "columns": [
        {
         "name": "index",
         "rawType": "int64",
         "type": "integer"
        },
        {
         "name": "support",
         "rawType": "float64",
         "type": "float"
        },
        {
         "name": "itemsets",
         "rawType": "object",
         "type": "unknown"
        }
       ],
       "ref": "2318b973-a20f-4994-99fd-a709f565a6ae",
       "rows": [
        [
         "0",
         "0.11564625850340136",
         "frozenset({'Almond Croissant'})"
        ],
        [
         "1",
         "0.3888888888888889",
         "frozenset({'Cappuccino'})"
        ],
        [
         "2",
         "0.1912320483749055",
         "frozenset({'Carmel syrup'})"
        ],
        [
         "3",
         "0.1126228269085412",
         "frozenset({'Chocolate Chip Biscotti'})"
        ],
        [
         "4",
         "0.13567649281934996",
         "frozenset({'Chocolate Croissant'})"
        ]
       ],
       "shape": {
        "columns": 2,
        "rows": 5
       }
      },
      "text/html": [
       "<div>\n",
       "<style scoped>\n",
       "    .dataframe tbody tr th:only-of-type {\n",
       "        vertical-align: middle;\n",
       "    }\n",
       "\n",
       "    .dataframe tbody tr th {\n",
       "        vertical-align: top;\n",
       "    }\n",
       "\n",
       "    .dataframe thead th {\n",
       "        text-align: right;\n",
       "    }\n",
       "</style>\n",
       "<table border=\"1\" class=\"dataframe\">\n",
       "  <thead>\n",
       "    <tr style=\"text-align: right;\">\n",
       "      <th></th>\n",
       "      <th>support</th>\n",
       "      <th>itemsets</th>\n",
       "    </tr>\n",
       "  </thead>\n",
       "  <tbody>\n",
       "    <tr>\n",
       "      <th>0</th>\n",
       "      <td>0.115646</td>\n",
       "      <td>(Almond Croissant)</td>\n",
       "    </tr>\n",
       "    <tr>\n",
       "      <th>1</th>\n",
       "      <td>0.388889</td>\n",
       "      <td>(Cappuccino)</td>\n",
       "    </tr>\n",
       "    <tr>\n",
       "      <th>2</th>\n",
       "      <td>0.191232</td>\n",
       "      <td>(Carmel syrup)</td>\n",
       "    </tr>\n",
       "    <tr>\n",
       "      <th>3</th>\n",
       "      <td>0.112623</td>\n",
       "      <td>(Chocolate Chip Biscotti)</td>\n",
       "    </tr>\n",
       "    <tr>\n",
       "      <th>4</th>\n",
       "      <td>0.135676</td>\n",
       "      <td>(Chocolate Croissant)</td>\n",
       "    </tr>\n",
       "  </tbody>\n",
       "</table>\n",
       "</div>"
      ],
      "text/plain": [
       "    support                   itemsets\n",
       "0  0.115646         (Almond Croissant)\n",
       "1  0.388889               (Cappuccino)\n",
       "2  0.191232             (Carmel syrup)\n",
       "3  0.112623  (Chocolate Chip Biscotti)\n",
       "4  0.135676      (Chocolate Croissant)"
      ]
     },
     "execution_count": 43,
     "metadata": {},
     "output_type": "execute_result"
    }
   ],
   "source": [
    "frequent_items = apriori(my_basket_sets, min_support = 0.05,use_colnames = True)\n",
    "frequent_items.head()"
   ]
  },
  {
   "cell_type": "code",
   "execution_count": 44,
   "id": "3349880e",
   "metadata": {},
   "outputs": [
    {
     "data": {
      "application/vnd.microsoft.datawrangler.viewer.v0+json": {
       "columns": [
        {
         "name": "index",
         "rawType": "int64",
         "type": "integer"
        },
        {
         "name": "antecedents",
         "rawType": "object",
         "type": "unknown"
        },
        {
         "name": "consequents",
         "rawType": "object",
         "type": "unknown"
        },
        {
         "name": "antecedent support",
         "rawType": "float64",
         "type": "float"
        },
        {
         "name": "consequent support",
         "rawType": "float64",
         "type": "float"
        },
        {
         "name": "support",
         "rawType": "float64",
         "type": "float"
        },
        {
         "name": "confidence",
         "rawType": "float64",
         "type": "float"
        },
        {
         "name": "lift",
         "rawType": "float64",
         "type": "float"
        },
        {
         "name": "representativity",
         "rawType": "float64",
         "type": "float"
        },
        {
         "name": "leverage",
         "rawType": "float64",
         "type": "float"
        },
        {
         "name": "conviction",
         "rawType": "float64",
         "type": "float"
        },
        {
         "name": "zhangs_metric",
         "rawType": "float64",
         "type": "float"
        },
        {
         "name": "jaccard",
         "rawType": "float64",
         "type": "float"
        },
        {
         "name": "certainty",
         "rawType": "float64",
         "type": "float"
        },
        {
         "name": "kulczynski",
         "rawType": "float64",
         "type": "float"
        }
       ],
       "ref": "4e5e8635-de8e-4b2d-9669-4132b87b97c3",
       "rows": [
        [
         "0",
         "frozenset({'Cappuccino'})",
         "frozenset({'Almond Croissant'})",
         "0.3888888888888889",
         "0.11564625850340136",
         "0.05328798185941043",
         "0.13702623906705538",
         "1.1848739495798317",
         "1.0",
         "0.008314436885865452",
         "1.0247747747747746",
         "0.25531914893617",
         "0.11809045226130653",
         "0.02417582417582416",
         "0.2989052763962728"
        ],
        [
         "1",
         "frozenset({'Almond Croissant'})",
         "frozenset({'Cappuccino'})",
         "0.11564625850340136",
         "0.3888888888888889",
         "0.05328798185941043",
         "0.46078431372549017",
         "1.184873949579832",
         "1.0",
         "0.008314436885865452",
         "1.1333333333333333",
         "0.17643207855973803",
         "0.11809045226130653",
         "0.11764705882352934",
         "0.2989052763962728"
        ],
        [
         "2",
         "frozenset({'Dark chocolate'})",
         "frozenset({'Almond Croissant'})",
         "0.2770219198790627",
         "0.11564625850340136",
         "0.05744520030234316",
         "0.20736698499317874",
         "1.7931145172939573",
         "1.0",
         "0.025408651744900534",
         "1.115716510356294",
         "0.6117905191625169",
         "0.17136414881623452",
         "0.10371497533844057",
         "0.3520495055684848"
        ],
        [
         "3",
         "frozenset({'Almond Croissant'})",
         "frozenset({'Dark chocolate'})",
         "0.11564625850340136",
         "0.2770219198790627",
         "0.05744520030234316",
         "0.4967320261437908",
         "1.793114517293957",
         "1.0",
         "0.025408651744900534",
         "1.4365668345260183",
         "0.5001518218623483",
         "0.17136414881623452",
         "0.30389594415915866",
         "0.3520495055684848"
        ],
        [
         "4",
         "frozenset({'Latte'})",
         "frozenset({'Almond Croissant'})",
         "0.3820861678004535",
         "0.11564625850340136",
         "0.05442176870748299",
         "0.142433234421365",
         "1.2316285564670972",
         "1.0",
         "0.010234932975457751",
         "1.0312360238212932",
         "0.30435779816513747",
         "0.1227621483375959",
         "0.03028988815338964",
         "0.30651073485774133"
        ]
       ],
       "shape": {
        "columns": 14,
        "rows": 5
       }
      },
      "text/html": [
       "<div>\n",
       "<style scoped>\n",
       "    .dataframe tbody tr th:only-of-type {\n",
       "        vertical-align: middle;\n",
       "    }\n",
       "\n",
       "    .dataframe tbody tr th {\n",
       "        vertical-align: top;\n",
       "    }\n",
       "\n",
       "    .dataframe thead th {\n",
       "        text-align: right;\n",
       "    }\n",
       "</style>\n",
       "<table border=\"1\" class=\"dataframe\">\n",
       "  <thead>\n",
       "    <tr style=\"text-align: right;\">\n",
       "      <th></th>\n",
       "      <th>antecedents</th>\n",
       "      <th>consequents</th>\n",
       "      <th>antecedent support</th>\n",
       "      <th>consequent support</th>\n",
       "      <th>support</th>\n",
       "      <th>confidence</th>\n",
       "      <th>lift</th>\n",
       "      <th>representativity</th>\n",
       "      <th>leverage</th>\n",
       "      <th>conviction</th>\n",
       "      <th>zhangs_metric</th>\n",
       "      <th>jaccard</th>\n",
       "      <th>certainty</th>\n",
       "      <th>kulczynski</th>\n",
       "    </tr>\n",
       "  </thead>\n",
       "  <tbody>\n",
       "    <tr>\n",
       "      <th>0</th>\n",
       "      <td>(Cappuccino)</td>\n",
       "      <td>(Almond Croissant)</td>\n",
       "      <td>0.388889</td>\n",
       "      <td>0.115646</td>\n",
       "      <td>0.053288</td>\n",
       "      <td>0.137026</td>\n",
       "      <td>1.184874</td>\n",
       "      <td>1.0</td>\n",
       "      <td>0.008314</td>\n",
       "      <td>1.024775</td>\n",
       "      <td>0.255319</td>\n",
       "      <td>0.118090</td>\n",
       "      <td>0.024176</td>\n",
       "      <td>0.298905</td>\n",
       "    </tr>\n",
       "    <tr>\n",
       "      <th>1</th>\n",
       "      <td>(Almond Croissant)</td>\n",
       "      <td>(Cappuccino)</td>\n",
       "      <td>0.115646</td>\n",
       "      <td>0.388889</td>\n",
       "      <td>0.053288</td>\n",
       "      <td>0.460784</td>\n",
       "      <td>1.184874</td>\n",
       "      <td>1.0</td>\n",
       "      <td>0.008314</td>\n",
       "      <td>1.133333</td>\n",
       "      <td>0.176432</td>\n",
       "      <td>0.118090</td>\n",
       "      <td>0.117647</td>\n",
       "      <td>0.298905</td>\n",
       "    </tr>\n",
       "    <tr>\n",
       "      <th>2</th>\n",
       "      <td>(Dark chocolate)</td>\n",
       "      <td>(Almond Croissant)</td>\n",
       "      <td>0.277022</td>\n",
       "      <td>0.115646</td>\n",
       "      <td>0.057445</td>\n",
       "      <td>0.207367</td>\n",
       "      <td>1.793115</td>\n",
       "      <td>1.0</td>\n",
       "      <td>0.025409</td>\n",
       "      <td>1.115717</td>\n",
       "      <td>0.611791</td>\n",
       "      <td>0.171364</td>\n",
       "      <td>0.103715</td>\n",
       "      <td>0.352050</td>\n",
       "    </tr>\n",
       "    <tr>\n",
       "      <th>3</th>\n",
       "      <td>(Almond Croissant)</td>\n",
       "      <td>(Dark chocolate)</td>\n",
       "      <td>0.115646</td>\n",
       "      <td>0.277022</td>\n",
       "      <td>0.057445</td>\n",
       "      <td>0.496732</td>\n",
       "      <td>1.793115</td>\n",
       "      <td>1.0</td>\n",
       "      <td>0.025409</td>\n",
       "      <td>1.436567</td>\n",
       "      <td>0.500152</td>\n",
       "      <td>0.171364</td>\n",
       "      <td>0.303896</td>\n",
       "      <td>0.352050</td>\n",
       "    </tr>\n",
       "    <tr>\n",
       "      <th>4</th>\n",
       "      <td>(Latte)</td>\n",
       "      <td>(Almond Croissant)</td>\n",
       "      <td>0.382086</td>\n",
       "      <td>0.115646</td>\n",
       "      <td>0.054422</td>\n",
       "      <td>0.142433</td>\n",
       "      <td>1.231629</td>\n",
       "      <td>1.0</td>\n",
       "      <td>0.010235</td>\n",
       "      <td>1.031236</td>\n",
       "      <td>0.304358</td>\n",
       "      <td>0.122762</td>\n",
       "      <td>0.030290</td>\n",
       "      <td>0.306511</td>\n",
       "    </tr>\n",
       "  </tbody>\n",
       "</table>\n",
       "</div>"
      ],
      "text/plain": [
       "          antecedents         consequents  antecedent support  \\\n",
       "0        (Cappuccino)  (Almond Croissant)            0.388889   \n",
       "1  (Almond Croissant)        (Cappuccino)            0.115646   \n",
       "2    (Dark chocolate)  (Almond Croissant)            0.277022   \n",
       "3  (Almond Croissant)    (Dark chocolate)            0.115646   \n",
       "4             (Latte)  (Almond Croissant)            0.382086   \n",
       "\n",
       "   consequent support   support  confidence      lift  representativity  \\\n",
       "0            0.115646  0.053288    0.137026  1.184874               1.0   \n",
       "1            0.388889  0.053288    0.460784  1.184874               1.0   \n",
       "2            0.115646  0.057445    0.207367  1.793115               1.0   \n",
       "3            0.277022  0.057445    0.496732  1.793115               1.0   \n",
       "4            0.115646  0.054422    0.142433  1.231629               1.0   \n",
       "\n",
       "   leverage  conviction  zhangs_metric   jaccard  certainty  kulczynski  \n",
       "0  0.008314    1.024775       0.255319  0.118090   0.024176    0.298905  \n",
       "1  0.008314    1.133333       0.176432  0.118090   0.117647    0.298905  \n",
       "2  0.025409    1.115717       0.611791  0.171364   0.103715    0.352050  \n",
       "3  0.025409    1.436567       0.500152  0.171364   0.303896    0.352050  \n",
       "4  0.010235    1.031236       0.304358  0.122762   0.030290    0.306511  "
      ]
     },
     "execution_count": 44,
     "metadata": {},
     "output_type": "execute_result"
    }
   ],
   "source": [
    "rules_basket = association_rules(frequent_items, metric = \"lift\", min_threshold = 1)\n",
    "rules_basket.head()"
   ]
  },
  {
   "cell_type": "code",
   "execution_count": 45,
   "id": "f557549d",
   "metadata": {},
   "outputs": [],
   "source": [
    "# Save Rules Basket\n",
    "rules_basket.to_pickle('rules_basket.pkl')"
   ]
  },
  {
   "cell_type": "code",
   "execution_count": null,
   "id": "7a7793f2",
   "metadata": {},
   "outputs": [],
   "source": []
  },
  {
   "cell_type": "code",
   "execution_count": 46,
   "id": "36eecec2",
   "metadata": {},
   "outputs": [
    {
     "data": {
      "application/vnd.microsoft.datawrangler.viewer.v0+json": {
       "columns": [
        {
         "name": "index",
         "rawType": "int64",
         "type": "integer"
        },
        {
         "name": "antecedents",
         "rawType": "object",
         "type": "unknown"
        },
        {
         "name": "consequents",
         "rawType": "object",
         "type": "unknown"
        },
        {
         "name": "antecedent support",
         "rawType": "float64",
         "type": "float"
        },
        {
         "name": "consequent support",
         "rawType": "float64",
         "type": "float"
        },
        {
         "name": "support",
         "rawType": "float64",
         "type": "float"
        },
        {
         "name": "confidence",
         "rawType": "float64",
         "type": "float"
        },
        {
         "name": "lift",
         "rawType": "float64",
         "type": "float"
        },
        {
         "name": "representativity",
         "rawType": "float64",
         "type": "float"
        },
        {
         "name": "leverage",
         "rawType": "float64",
         "type": "float"
        },
        {
         "name": "conviction",
         "rawType": "float64",
         "type": "float"
        },
        {
         "name": "zhangs_metric",
         "rawType": "float64",
         "type": "float"
        },
        {
         "name": "jaccard",
         "rawType": "float64",
         "type": "float"
        },
        {
         "name": "certainty",
         "rawType": "float64",
         "type": "float"
        },
        {
         "name": "kulczynski",
         "rawType": "float64",
         "type": "float"
        }
       ],
       "ref": "92d5c8b7-f38b-4bf2-9454-c08296eba5fe",
       "rows": [
        [
         "70",
         "frozenset({'Latte'})",
         "frozenset({'Sugar Free Vanilla syrup'})",
         "0.3820861678004535",
         "0.20030234315948603",
         "0.10884353741496598",
         "0.28486646884273",
         "1.4221824085997423",
         "1.0",
         "0.03231078271570659",
         "1.1182494205612168",
         "0.4804153924566768",
         "0.22984836392657618",
         "0.10574512124662737",
         "0.4141313476289121"
        ],
        [
         "33",
         "frozenset({'Latte'})",
         "frozenset({'Carmel syrup'})",
         "0.3820861678004535",
         "0.1912320483749055",
         "0.10770975056689343",
         "0.2818991097922849",
         "1.474120641324873",
         "1.0",
         "0.03464263004269484",
         "1.1262595028828797",
         "0.5205086109769838",
         "0.23133116883116883",
         "0.11210516098616159",
         "0.4225701082558263"
        ],
        [
         "45",
         "frozenset({'Latte'})",
         "frozenset({'Chocolate syrup'})",
         "0.3820861678004535",
         "0.1889644746787604",
         "0.10317460317460317",
         "0.27002967359050445",
         "1.4289970326409496",
         "1.0",
         "0.030973891194169767",
         "1.1110527318425112",
         "0.4858419867594177",
         "0.2205169628432956",
         "0.09995271030777016",
         "0.4080148367952522"
        ],
        [
         "69",
         "frozenset({'Latte'})",
         "frozenset({'Hazelnut syrup'})",
         "0.3820861678004535",
         "0.17157974300831444",
         "0.10128495842781557",
         "0.26508407517309596",
         "1.5449613720440791",
         "1.0",
         "0.035726711949582046",
         "1.1272313321919167",
         "0.5708475968779952",
         "0.22389306599832917",
         "0.11287064913686674",
         "0.42769622260857443"
        ],
        [
         "53",
         "frozenset({'Latte'})",
         "frozenset({'Croissant'})",
         "0.3820861678004535",
         "0.11413454270597127",
         "0.057067271352985637",
         "0.14935707220573688",
         "1.3086053412462908",
         "1.0",
         "0.013458041316803872",
         "1.0414069503770502",
         "0.38165137614678907",
         "0.12994836488812392",
         "0.03976058577490605",
         "0.32467853610286845"
        ],
        [
         "66",
         "frozenset({'Latte'})",
         "frozenset({'Ginger Scone'})",
         "0.3820861678004535",
         "0.13340891912320485",
         "0.05517762660619804",
         "0.1444114737883284",
         "1.0824724069232772",
         "1.0",
         "0.004203923948012056",
         "1.0128596332559998",
         "0.12330023878346098",
         "0.11986863711001643",
         "0.012696362688145172",
         "0.2790046037496883"
        ],
        [
         "38",
         "frozenset({'Latte'})",
         "frozenset({'Chocolate Croissant'})",
         "0.3820861678004535",
         "0.13567649281934996",
         "0.05517762660619804",
         "0.1444114737883284",
         "1.064380946083334",
         "1.0",
         "0.0033375154042468644",
         "1.0102093245776154",
         "0.09788865150182244",
         "0.119281045751634",
         "0.010106147636168308",
         "0.2755483552785653"
        ],
        [
         "4",
         "frozenset({'Latte'})",
         "frozenset({'Almond Croissant'})",
         "0.3820861678004535",
         "0.11564625850340136",
         "0.05442176870748299",
         "0.142433234421365",
         "1.2316285564670972",
         "1.0",
         "0.010234932975457751",
         "1.0312360238212932",
         "0.30435779816513747",
         "0.1227621483375959",
         "0.03028988815338964",
         "0.30651073485774133"
        ],
        [
         "64",
         "frozenset({'Latte'})",
         "frozenset({'Ginger Biscotti'})",
         "0.3820861678004535",
         "0.10619803476946334",
         "0.054043839758125475",
         "0.1414441147378833",
         "1.3318901337951574",
         "1.0",
         "0.013467039625121913",
         "1.0410527498249684",
         "0.4032719574003979",
         "0.12445604873803309",
         "0.039433880590460546",
         "0.32517045594545413"
        ],
        [
         "49",
         "frozenset({'Latte'})",
         "frozenset({'Cranberry Scone'})",
         "0.3820861678004535",
         "0.11602418745275889",
         "0.05139833711262283",
         "0.13452027695351138",
         "1.1594158072279839",
         "1.0",
         "0.0070670999566367215",
         "1.0213709102688695",
         "0.22251753912574193",
         "0.11505922165820644",
         "0.020923750670795674",
         "0.2887585098122606"
        ]
       ],
       "shape": {
        "columns": 14,
        "rows": 10
       }
      },
      "text/html": [
       "<div>\n",
       "<style scoped>\n",
       "    .dataframe tbody tr th:only-of-type {\n",
       "        vertical-align: middle;\n",
       "    }\n",
       "\n",
       "    .dataframe tbody tr th {\n",
       "        vertical-align: top;\n",
       "    }\n",
       "\n",
       "    .dataframe thead th {\n",
       "        text-align: right;\n",
       "    }\n",
       "</style>\n",
       "<table border=\"1\" class=\"dataframe\">\n",
       "  <thead>\n",
       "    <tr style=\"text-align: right;\">\n",
       "      <th></th>\n",
       "      <th>antecedents</th>\n",
       "      <th>consequents</th>\n",
       "      <th>antecedent support</th>\n",
       "      <th>consequent support</th>\n",
       "      <th>support</th>\n",
       "      <th>confidence</th>\n",
       "      <th>lift</th>\n",
       "      <th>representativity</th>\n",
       "      <th>leverage</th>\n",
       "      <th>conviction</th>\n",
       "      <th>zhangs_metric</th>\n",
       "      <th>jaccard</th>\n",
       "      <th>certainty</th>\n",
       "      <th>kulczynski</th>\n",
       "    </tr>\n",
       "  </thead>\n",
       "  <tbody>\n",
       "    <tr>\n",
       "      <th>70</th>\n",
       "      <td>(Latte)</td>\n",
       "      <td>(Sugar Free Vanilla syrup)</td>\n",
       "      <td>0.382086</td>\n",
       "      <td>0.200302</td>\n",
       "      <td>0.108844</td>\n",
       "      <td>0.284866</td>\n",
       "      <td>1.422182</td>\n",
       "      <td>1.0</td>\n",
       "      <td>0.032311</td>\n",
       "      <td>1.118249</td>\n",
       "      <td>0.480415</td>\n",
       "      <td>0.229848</td>\n",
       "      <td>0.105745</td>\n",
       "      <td>0.414131</td>\n",
       "    </tr>\n",
       "    <tr>\n",
       "      <th>33</th>\n",
       "      <td>(Latte)</td>\n",
       "      <td>(Carmel syrup)</td>\n",
       "      <td>0.382086</td>\n",
       "      <td>0.191232</td>\n",
       "      <td>0.107710</td>\n",
       "      <td>0.281899</td>\n",
       "      <td>1.474121</td>\n",
       "      <td>1.0</td>\n",
       "      <td>0.034643</td>\n",
       "      <td>1.126260</td>\n",
       "      <td>0.520509</td>\n",
       "      <td>0.231331</td>\n",
       "      <td>0.112105</td>\n",
       "      <td>0.422570</td>\n",
       "    </tr>\n",
       "    <tr>\n",
       "      <th>45</th>\n",
       "      <td>(Latte)</td>\n",
       "      <td>(Chocolate syrup)</td>\n",
       "      <td>0.382086</td>\n",
       "      <td>0.188964</td>\n",
       "      <td>0.103175</td>\n",
       "      <td>0.270030</td>\n",
       "      <td>1.428997</td>\n",
       "      <td>1.0</td>\n",
       "      <td>0.030974</td>\n",
       "      <td>1.111053</td>\n",
       "      <td>0.485842</td>\n",
       "      <td>0.220517</td>\n",
       "      <td>0.099953</td>\n",
       "      <td>0.408015</td>\n",
       "    </tr>\n",
       "    <tr>\n",
       "      <th>69</th>\n",
       "      <td>(Latte)</td>\n",
       "      <td>(Hazelnut syrup)</td>\n",
       "      <td>0.382086</td>\n",
       "      <td>0.171580</td>\n",
       "      <td>0.101285</td>\n",
       "      <td>0.265084</td>\n",
       "      <td>1.544961</td>\n",
       "      <td>1.0</td>\n",
       "      <td>0.035727</td>\n",
       "      <td>1.127231</td>\n",
       "      <td>0.570848</td>\n",
       "      <td>0.223893</td>\n",
       "      <td>0.112871</td>\n",
       "      <td>0.427696</td>\n",
       "    </tr>\n",
       "    <tr>\n",
       "      <th>53</th>\n",
       "      <td>(Latte)</td>\n",
       "      <td>(Croissant)</td>\n",
       "      <td>0.382086</td>\n",
       "      <td>0.114135</td>\n",
       "      <td>0.057067</td>\n",
       "      <td>0.149357</td>\n",
       "      <td>1.308605</td>\n",
       "      <td>1.0</td>\n",
       "      <td>0.013458</td>\n",
       "      <td>1.041407</td>\n",
       "      <td>0.381651</td>\n",
       "      <td>0.129948</td>\n",
       "      <td>0.039761</td>\n",
       "      <td>0.324679</td>\n",
       "    </tr>\n",
       "    <tr>\n",
       "      <th>66</th>\n",
       "      <td>(Latte)</td>\n",
       "      <td>(Ginger Scone)</td>\n",
       "      <td>0.382086</td>\n",
       "      <td>0.133409</td>\n",
       "      <td>0.055178</td>\n",
       "      <td>0.144411</td>\n",
       "      <td>1.082472</td>\n",
       "      <td>1.0</td>\n",
       "      <td>0.004204</td>\n",
       "      <td>1.012860</td>\n",
       "      <td>0.123300</td>\n",
       "      <td>0.119869</td>\n",
       "      <td>0.012696</td>\n",
       "      <td>0.279005</td>\n",
       "    </tr>\n",
       "    <tr>\n",
       "      <th>38</th>\n",
       "      <td>(Latte)</td>\n",
       "      <td>(Chocolate Croissant)</td>\n",
       "      <td>0.382086</td>\n",
       "      <td>0.135676</td>\n",
       "      <td>0.055178</td>\n",
       "      <td>0.144411</td>\n",
       "      <td>1.064381</td>\n",
       "      <td>1.0</td>\n",
       "      <td>0.003338</td>\n",
       "      <td>1.010209</td>\n",
       "      <td>0.097889</td>\n",
       "      <td>0.119281</td>\n",
       "      <td>0.010106</td>\n",
       "      <td>0.275548</td>\n",
       "    </tr>\n",
       "    <tr>\n",
       "      <th>4</th>\n",
       "      <td>(Latte)</td>\n",
       "      <td>(Almond Croissant)</td>\n",
       "      <td>0.382086</td>\n",
       "      <td>0.115646</td>\n",
       "      <td>0.054422</td>\n",
       "      <td>0.142433</td>\n",
       "      <td>1.231629</td>\n",
       "      <td>1.0</td>\n",
       "      <td>0.010235</td>\n",
       "      <td>1.031236</td>\n",
       "      <td>0.304358</td>\n",
       "      <td>0.122762</td>\n",
       "      <td>0.030290</td>\n",
       "      <td>0.306511</td>\n",
       "    </tr>\n",
       "    <tr>\n",
       "      <th>64</th>\n",
       "      <td>(Latte)</td>\n",
       "      <td>(Ginger Biscotti)</td>\n",
       "      <td>0.382086</td>\n",
       "      <td>0.106198</td>\n",
       "      <td>0.054044</td>\n",
       "      <td>0.141444</td>\n",
       "      <td>1.331890</td>\n",
       "      <td>1.0</td>\n",
       "      <td>0.013467</td>\n",
       "      <td>1.041053</td>\n",
       "      <td>0.403272</td>\n",
       "      <td>0.124456</td>\n",
       "      <td>0.039434</td>\n",
       "      <td>0.325170</td>\n",
       "    </tr>\n",
       "    <tr>\n",
       "      <th>49</th>\n",
       "      <td>(Latte)</td>\n",
       "      <td>(Cranberry Scone)</td>\n",
       "      <td>0.382086</td>\n",
       "      <td>0.116024</td>\n",
       "      <td>0.051398</td>\n",
       "      <td>0.134520</td>\n",
       "      <td>1.159416</td>\n",
       "      <td>1.0</td>\n",
       "      <td>0.007067</td>\n",
       "      <td>1.021371</td>\n",
       "      <td>0.222518</td>\n",
       "      <td>0.115059</td>\n",
       "      <td>0.020924</td>\n",
       "      <td>0.288759</td>\n",
       "    </tr>\n",
       "  </tbody>\n",
       "</table>\n",
       "</div>"
      ],
      "text/plain": [
       "   antecedents                 consequents  antecedent support  \\\n",
       "70     (Latte)  (Sugar Free Vanilla syrup)            0.382086   \n",
       "33     (Latte)              (Carmel syrup)            0.382086   \n",
       "45     (Latte)           (Chocolate syrup)            0.382086   \n",
       "69     (Latte)            (Hazelnut syrup)            0.382086   \n",
       "53     (Latte)                 (Croissant)            0.382086   \n",
       "66     (Latte)              (Ginger Scone)            0.382086   \n",
       "38     (Latte)       (Chocolate Croissant)            0.382086   \n",
       "4      (Latte)          (Almond Croissant)            0.382086   \n",
       "64     (Latte)           (Ginger Biscotti)            0.382086   \n",
       "49     (Latte)           (Cranberry Scone)            0.382086   \n",
       "\n",
       "    consequent support   support  confidence      lift  representativity  \\\n",
       "70            0.200302  0.108844    0.284866  1.422182               1.0   \n",
       "33            0.191232  0.107710    0.281899  1.474121               1.0   \n",
       "45            0.188964  0.103175    0.270030  1.428997               1.0   \n",
       "69            0.171580  0.101285    0.265084  1.544961               1.0   \n",
       "53            0.114135  0.057067    0.149357  1.308605               1.0   \n",
       "66            0.133409  0.055178    0.144411  1.082472               1.0   \n",
       "38            0.135676  0.055178    0.144411  1.064381               1.0   \n",
       "4             0.115646  0.054422    0.142433  1.231629               1.0   \n",
       "64            0.106198  0.054044    0.141444  1.331890               1.0   \n",
       "49            0.116024  0.051398    0.134520  1.159416               1.0   \n",
       "\n",
       "    leverage  conviction  zhangs_metric   jaccard  certainty  kulczynski  \n",
       "70  0.032311    1.118249       0.480415  0.229848   0.105745    0.414131  \n",
       "33  0.034643    1.126260       0.520509  0.231331   0.112105    0.422570  \n",
       "45  0.030974    1.111053       0.485842  0.220517   0.099953    0.408015  \n",
       "69  0.035727    1.127231       0.570848  0.223893   0.112871    0.427696  \n",
       "53  0.013458    1.041407       0.381651  0.129948   0.039761    0.324679  \n",
       "66  0.004204    1.012860       0.123300  0.119869   0.012696    0.279005  \n",
       "38  0.003338    1.010209       0.097889  0.119281   0.010106    0.275548  \n",
       "4   0.010235    1.031236       0.304358  0.122762   0.030290    0.306511  \n",
       "64  0.013467    1.041053       0.403272  0.124456   0.039434    0.325170  \n",
       "49  0.007067    1.021371       0.222518  0.115059   0.020924    0.288759  "
      ]
     },
     "execution_count": 46,
     "metadata": {},
     "output_type": "execute_result"
    }
   ],
   "source": [
    "# Get Example Recommendations\n",
    "rules_basket[rules_basket['antecedents']=={'Latte'}].sort_values('confidence',ascending=False).head(50)"
   ]
  },
  {
   "cell_type": "code",
   "execution_count": null,
   "id": "a4df8fa5",
   "metadata": {},
   "outputs": [],
   "source": []
  },
  {
   "cell_type": "markdown",
   "id": "8db8aaa6",
   "metadata": {},
   "source": [
    "### Save in Json Format"
   ]
  },
  {
   "cell_type": "code",
   "execution_count": 47,
   "id": "a29f6ef3",
   "metadata": {},
   "outputs": [
    {
     "data": {
      "text/plain": [
       "{'Cappuccino': 'Coffee',\n",
       " 'Jumbo Savory Scone': 'Bakery',\n",
       " 'Latte': 'Coffee',\n",
       " 'Chocolate Chip Biscotti': 'Bakery',\n",
       " 'Espresso shot': 'Coffee',\n",
       " 'Hazelnut Biscotti': 'Bakery',\n",
       " 'Chocolate Croissant': 'Bakery',\n",
       " 'Dark chocolate': 'Packaged Chocolate',\n",
       " 'Cranberry Scone': 'Bakery',\n",
       " 'Croissant': 'Bakery',\n",
       " 'Almond Croissant': 'Bakery',\n",
       " 'Ginger Biscotti': 'Bakery',\n",
       " 'Oatmeal Scone': 'Bakery',\n",
       " 'Ginger Scone': 'Bakery',\n",
       " 'Chocolate syrup': 'Flavours',\n",
       " 'Hazelnut syrup': 'Flavours',\n",
       " 'Carmel syrup': 'Flavours',\n",
       " 'Sugar Free Vanilla syrup': 'Flavours'}"
      ]
     },
     "execution_count": 47,
     "metadata": {},
     "output_type": "execute_result"
    }
   ],
   "source": [
    "product_categories = dataset[['product','product_category']].drop_duplicates().set_index('product').to_dict()['product_category']\n",
    "product_categories"
   ]
  },
  {
   "cell_type": "code",
   "execution_count": 48,
   "id": "64b2c8f1",
   "metadata": {},
   "outputs": [],
   "source": [
    "recommendations_json = {}\n",
    "\n",
    "antecedents = rules_basket['antecedents'].unique()\n",
    "for antecedent in antecedents:\n",
    "    df_rec = rules_basket[rules_basket['antecedents']==antecedent]\n",
    "    df_rec = df_rec.sort_values('confidence',ascending=False)\n",
    "    key = \"_\".join(antecedent)\n",
    "    recommendations_json[key] = []\n",
    "    for _, row in df_rec.iterrows():\n",
    "        rec_objects =row['consequents']\n",
    "        for rec_object in rec_objects:\n",
    "            already_exists = False\n",
    "            for current_rec_object in recommendations_json[key]:\n",
    "                if rec_object == current_rec_object['product']:\n",
    "                    already_exists=True\n",
    "            if already_exists:\n",
    "                continue\n",
    "            \n",
    "            rec = {'product':rec_object, \n",
    "                   'product_category':product_categories[rec_object],\n",
    "                   'confidence': row['confidence']\n",
    "                  }\n",
    "            recommendations_json[key].append(rec)"
   ]
  },
  {
   "cell_type": "code",
   "execution_count": null,
   "id": "9cc25fef",
   "metadata": {},
   "outputs": [],
   "source": []
  },
  {
   "cell_type": "code",
   "execution_count": 49,
   "id": "39192285",
   "metadata": {
    "scrolled": true
   },
   "outputs": [
    {
     "name": "stdout",
     "output_type": "stream",
     "text": [
      "{'Cappuccino': [{'product': 'Sugar Free Vanilla syrup',\n",
      "                 'product_category': 'Flavours',\n",
      "                 'confidence': 0.29057337220602525},\n",
      "                {'product': 'Chocolate syrup',\n",
      "                 'product_category': 'Flavours',\n",
      "                 'confidence': 0.2818270165208941},\n",
      "                {'product': 'Carmel syrup',\n",
      "                 'product_category': 'Flavours',\n",
      "                 'confidence': 0.26433430515063167},\n",
      "                {'product': 'Hazelnut syrup',\n",
      "                 'product_category': 'Flavours',\n",
      "                 'confidence': 0.23226433430515062},\n",
      "                {'product': 'Ginger Scone',\n",
      "                 'product_category': 'Bakery',\n",
      "                 'confidence': 0.15354713313896987},\n",
      "                {'product': 'Croissant',\n",
      "                 'product_category': 'Bakery',\n",
      "                 'confidence': 0.14480077745383868},\n",
      "                {'product': 'Chocolate Chip Biscotti',\n",
      "                 'product_category': 'Bakery',\n",
      "                 'confidence': 0.14480077745383868},\n",
      "                {'product': 'Chocolate Croissant',\n",
      "                 'product_category': 'Bakery',\n",
      "                 'confidence': 0.14480077745383868},\n",
      "                {'product': 'Jumbo Savory Scone',\n",
      "                 'product_category': 'Bakery',\n",
      "                 'confidence': 0.14188532555879496},\n",
      "                {'product': 'Ginger Biscotti',\n",
      "                 'product_category': 'Bakery',\n",
      "                 'confidence': 0.1379980563654033},\n",
      "                {'product': 'Almond Croissant',\n",
      "                 'product_category': 'Bakery',\n",
      "                 'confidence': 0.13702623906705538},\n",
      "                {'product': 'Cranberry Scone',\n",
      "                 'product_category': 'Bakery',\n",
      "                 'confidence': 0.13508260447035958}],\n",
      " 'Almond Croissant': [{'product': 'Dark chocolate',\n",
      "                       'product_category': 'Packaged Chocolate',\n",
      "                       'confidence': 0.4967320261437908},\n",
      "                      {'product': 'Latte',\n",
      "                       'product_category': 'Coffee',\n",
      "                       'confidence': 0.47058823529411764},\n",
      "                      {'product': 'Cappuccino',\n",
      "                       'product_category': 'Coffee',\n",
      "                       'confidence': 0.46078431372549017}],\n",
      " 'Dark chocolate': [{'product': 'Espresso shot',\n",
      "                     'product_category': 'Coffee',\n",
      "                     'confidence': 0.22100954979536153},\n",
      "                    {'product': 'Chocolate Croissant',\n",
      "                     'product_category': 'Bakery',\n",
      "                     'confidence': 0.2169167803547067},\n",
      "                    {'product': 'Ginger Scone',\n",
      "                     'product_category': 'Bakery',\n",
      "                     'confidence': 0.21555252387448842},\n",
      "                    {'product': 'Almond Croissant',\n",
      "                     'product_category': 'Bakery',\n",
      "                     'confidence': 0.20736698499317874},\n",
      "                    {'product': 'Cranberry Scone',\n",
      "                     'product_category': 'Bakery',\n",
      "                     'confidence': 0.2032742155525239},\n",
      "                    {'product': 'Carmel syrup',\n",
      "                     'product_category': 'Flavours',\n",
      "                     'confidence': 0.19918144611186905},\n",
      "                    {'product': 'Chocolate Chip Biscotti',\n",
      "                     'product_category': 'Bakery',\n",
      "                     'confidence': 0.19372442019099592},\n",
      "                    {'product': 'Chocolate syrup',\n",
      "                     'product_category': 'Flavours',\n",
      "                     'confidence': 0.19099590723055934},\n",
      "                    {'product': 'Jumbo Savory Scone',\n",
      "                     'product_category': 'Bakery',\n",
      "                     'confidence': 0.18553888130968624},\n",
      "                    {'product': 'Croissant',\n",
      "                     'product_category': 'Bakery',\n",
      "                     'confidence': 0.18417462482946795}],\n",
      " 'Latte': [{'product': 'Sugar Free Vanilla syrup',\n",
      "            'product_category': 'Flavours',\n",
      "            'confidence': 0.28486646884273},\n",
      "           {'product': 'Carmel syrup',\n",
      "            'product_category': 'Flavours',\n",
      "            'confidence': 0.2818991097922849},\n",
      "           {'product': 'Chocolate syrup',\n",
      "            'product_category': 'Flavours',\n",
      "            'confidence': 0.27002967359050445},\n",
      "           {'product': 'Hazelnut syrup',\n",
      "            'product_category': 'Flavours',\n",
      "            'confidence': 0.26508407517309596},\n",
      "           {'product': 'Croissant',\n",
      "            'product_category': 'Bakery',\n",
      "            'confidence': 0.14935707220573688},\n",
      "           {'product': 'Ginger Scone',\n",
      "            'product_category': 'Bakery',\n",
      "            'confidence': 0.1444114737883284},\n",
      "           {'product': 'Chocolate Croissant',\n",
      "            'product_category': 'Bakery',\n",
      "            'confidence': 0.1444114737883284},\n",
      "           {'product': 'Almond Croissant',\n",
      "            'product_category': 'Bakery',\n",
      "            'confidence': 0.142433234421365},\n",
      "           {'product': 'Ginger Biscotti',\n",
      "            'product_category': 'Bakery',\n",
      "            'confidence': 0.1414441147378833},\n",
      "           {'product': 'Cranberry Scone',\n",
      "            'product_category': 'Bakery',\n",
      "            'confidence': 0.13452027695351138}],\n",
      " 'Carmel syrup': [{'product': 'Latte',\n",
      "                   'product_category': 'Coffee',\n",
      "                   'confidence': 0.5632411067193677},\n",
      "                  {'product': 'Cappuccino',\n",
      "                   'product_category': 'Coffee',\n",
      "                   'confidence': 0.5375494071146245},\n",
      "                  {'product': 'Espresso shot',\n",
      "                   'product_category': 'Coffee',\n",
      "                   'confidence': 0.31620553359683795},\n",
      "                  {'product': 'Dark chocolate',\n",
      "                   'product_category': 'Packaged Chocolate',\n",
      "                   'confidence': 0.2885375494071146}],\n",
      " 'Chocolate Chip Biscotti': [{'product': 'Cappuccino',\n",
      "                              'product_category': 'Coffee',\n",
      "                              'confidence': 0.5},\n",
      "                             {'product': 'Dark chocolate',\n",
      "                              'product_category': 'Packaged Chocolate',\n",
      "                              'confidence': 0.47651006711409394}],\n",
      " 'Chocolate Croissant': [{'product': 'Dark chocolate',\n",
      "                          'product_category': 'Packaged Chocolate',\n",
      "                          'confidence': 0.44289693593314766},\n",
      "                         {'product': 'Cappuccino',\n",
      "                          'product_category': 'Coffee',\n",
      "                          'confidence': 0.415041782729805},\n",
      "                         {'product': 'Latte',\n",
      "                          'product_category': 'Coffee',\n",
      "                          'confidence': 0.40668523676880225}],\n",
      " 'Chocolate syrup': [{'product': 'Cappuccino',\n",
      "                      'product_category': 'Coffee',\n",
      "                      'confidence': 0.58},\n",
      "                     {'product': 'Latte',\n",
      "                      'product_category': 'Coffee',\n",
      "                      'confidence': 0.5459999999999999},\n",
      "                     {'product': 'Espresso shot',\n",
      "                      'product_category': 'Coffee',\n",
      "                      'confidence': 0.312},\n",
      "                     {'product': 'Dark chocolate',\n",
      "                      'product_category': 'Packaged Chocolate',\n",
      "                      'confidence': 0.27999999999999997}],\n",
      " 'Cranberry Scone': [{'product': 'Dark chocolate',\n",
      "                      'product_category': 'Packaged Chocolate',\n",
      "                      'confidence': 0.48534201954397393},\n",
      "                     {'product': 'Cappuccino',\n",
      "                      'product_category': 'Coffee',\n",
      "                      'confidence': 0.4527687296416938},\n",
      "                     {'product': 'Latte',\n",
      "                      'product_category': 'Coffee',\n",
      "                      'confidence': 0.4429967426710098}],\n",
      " 'Croissant': [{'product': 'Latte',\n",
      "                'product_category': 'Coffee',\n",
      "                'confidence': 0.5},\n",
      "               {'product': 'Cappuccino',\n",
      "                'product_category': 'Coffee',\n",
      "                'confidence': 0.49337748344370863},\n",
      "               {'product': 'Dark chocolate',\n",
      "                'product_category': 'Packaged Chocolate',\n",
      "                'confidence': 0.4470198675496689}],\n",
      " 'Ginger Biscotti': [{'product': 'Latte',\n",
      "                      'product_category': 'Coffee',\n",
      "                      'confidence': 0.5088967971530249},\n",
      "                     {'product': 'Cappuccino',\n",
      "                      'product_category': 'Coffee',\n",
      "                      'confidence': 0.505338078291815}],\n",
      " 'Ginger Scone': [{'product': 'Cappuccino',\n",
      "                   'product_category': 'Coffee',\n",
      "                   'confidence': 0.4475920679886685},\n",
      "                  {'product': 'Dark chocolate',\n",
      "                   'product_category': 'Packaged Chocolate',\n",
      "                   'confidence': 0.4475920679886685},\n",
      "                  {'product': 'Latte',\n",
      "                   'product_category': 'Coffee',\n",
      "                   'confidence': 0.41359773371104813}],\n",
      " 'Hazelnut syrup': [{'product': 'Latte',\n",
      "                     'product_category': 'Coffee',\n",
      "                     'confidence': 0.5903083700440529},\n",
      "                    {'product': 'Cappuccino',\n",
      "                     'product_category': 'Coffee',\n",
      "                     'confidence': 0.526431718061674},\n",
      "                    {'product': 'Espresso shot',\n",
      "                     'product_category': 'Coffee',\n",
      "                     'confidence': 0.32158590308370044}],\n",
      " 'Jumbo Savory Scone': [{'product': 'Cappuccino',\n",
      "                         'product_category': 'Coffee',\n",
      "                         'confidence': 0.48026315789473684},\n",
      "                        {'product': 'Dark chocolate',\n",
      "                         'product_category': 'Packaged Chocolate',\n",
      "                         'confidence': 0.4473684210526316}],\n",
      " 'Sugar Free Vanilla syrup': [{'product': 'Cappuccino',\n",
      "                               'product_category': 'Coffee',\n",
      "                               'confidence': 0.5641509433962264},\n",
      "                              {'product': 'Latte',\n",
      "                               'product_category': 'Coffee',\n",
      "                               'confidence': 0.5433962264150943},\n",
      "                              {'product': 'Espresso shot',\n",
      "                               'product_category': 'Coffee',\n",
      "                               'confidence': 0.30566037735849055}],\n",
      " 'Espresso shot': [{'product': 'Dark chocolate',\n",
      "                    'product_category': 'Packaged Chocolate',\n",
      "                    'confidence': 0.2924187725631769},\n",
      "                   {'product': 'Sugar Free Vanilla syrup',\n",
      "                    'product_category': 'Flavours',\n",
      "                    'confidence': 0.2924187725631769},\n",
      "                   {'product': 'Carmel syrup',\n",
      "                    'product_category': 'Flavours',\n",
      "                    'confidence': 0.2888086642599278},\n",
      "                   {'product': 'Chocolate syrup',\n",
      "                    'product_category': 'Flavours',\n",
      "                    'confidence': 0.2815884476534296},\n",
      "                   {'product': 'Hazelnut syrup',\n",
      "                    'product_category': 'Flavours',\n",
      "                    'confidence': 0.26353790613718414}]}\n"
     ]
    }
   ],
   "source": [
    "import pprint\n",
    "pprint.pp(recommendations_json)"
   ]
  },
  {
   "cell_type": "code",
   "execution_count": null,
   "id": "b2966080",
   "metadata": {},
   "outputs": [],
   "source": []
  },
  {
   "cell_type": "code",
   "execution_count": 50,
   "id": "b451248d",
   "metadata": {},
   "outputs": [],
   "source": [
    "import json\n",
    "with open('api/recommendation_objects/apriori_recommendations.json', 'w') as json_file:\n",
    "    json.dump(recommendations_json, json_file)"
   ]
  },
  {
   "cell_type": "code",
   "execution_count": null,
   "id": "bcef9948",
   "metadata": {},
   "outputs": [],
   "source": []
  },
  {
   "cell_type": "code",
   "execution_count": null,
   "id": "7ad4c9e1",
   "metadata": {},
   "outputs": [],
   "source": []
  }
 ],
 "metadata": {
  "kernelspec": {
   "display_name": "cafe-py3.13",
   "language": "python",
   "name": "python3"
  },
  "language_info": {
   "codemirror_mode": {
    "name": "ipython",
    "version": 3
   },
   "file_extension": ".py",
   "mimetype": "text/x-python",
   "name": "python",
   "nbconvert_exporter": "python",
   "pygments_lexer": "ipython3",
   "version": "3.13.3"
  }
 },
 "nbformat": 4,
 "nbformat_minor": 5
}
