{
 "cells": [
  {
   "cell_type": "code",
   "execution_count": null,
   "id": "5d0094f2",
   "metadata": {},
   "outputs": [],
   "source": [
    "# !pip install firebase-admin\n",
    "# !pip install google-cloud-storage\n",
    "# !pip install python-dotenv\n",
    "# !pip install pandas\n"
   ]
  },
  {
   "cell_type": "code",
   "execution_count": 1,
   "id": "49ffbfc4",
   "metadata": {},
   "outputs": [
    {
     "data": {
      "text/plain": [
       "True"
      ]
     },
     "execution_count": 1,
     "metadata": {},
     "output_type": "execute_result"
    }
   ],
   "source": [
    "import firebase_admin\n",
    "from firebase_admin import credentials, storage\n",
    "from firebase_admin import db\n",
    "import pandas as pd\n",
    "import os\n",
    "import dotenv\n",
    "dotenv.load_dotenv()"
   ]
  },
  {
   "cell_type": "markdown",
   "id": "75d6af22",
   "metadata": {},
   "source": [
    "# Firebase Init"
   ]
  },
  {
   "cell_type": "markdown",
   "id": "426a06fa",
   "metadata": {},
   "source": [
    "<!-- # Firebase Init -->"
   ]
  },
  {
   "cell_type": "code",
   "execution_count": 2,
   "id": "1cd22fb9",
   "metadata": {
    "vscode": {
     "languageId": "javascript"
    }
   },
   "outputs": [],
   "source": [
    "service_account_info ={\n",
    "    \"type\": os.getenv('FIREBASE_TYPE'),\n",
    "    \"project_id\": os.getenv('FIREBASE_PROJECT_ID'),\n",
    "    \"private_key_id\": os.getenv('FIREBASE_PRIVATE_KEY_ID'),\n",
    "    \"private_key\": os.getenv('FIREBASE_PRIVATE_KEY'),\n",
    "    \"client_email\": os.getenv('FIREBASE_CLIENT_EMAIL'),\n",
    "    \"client_id\": os.getenv('FIREBASE_CLIENT_ID'),\n",
    "    \"auth_uri\": os.getenv('FIREBASE_AUTH_URI'),\n",
    "    \"token_uri\": os.getenv('FIREBASE_TOKEN_URI'),\n",
    "    \"auth_provider_x509_cert_url\": os.getenv('FIREBASE_AUTH_PROVIDER_X509_CERT_URL'),\n",
    "    \"client_x509_cert_url\": os.getenv('FIREBASE_CLIENT_X509_CERT_URL'),\n",
    "    \"universe_domain\": os.getenv('FIREBASE_UNIVERSE_DOMAIN')\n",
    "  }\n",
    "  \n",
    "\n"
   ]
  },
  {
   "cell_type": "code",
   "execution_count": 3,
   "id": "b37cbe76",
   "metadata": {},
   "outputs": [
    {
     "data": {
      "text/plain": [
       "<firebase_admin.App at 0x1dc7988b0e0>"
      ]
     },
     "execution_count": 3,
     "metadata": {},
     "output_type": "execute_result"
    }
   ],
   "source": [
    "cred = credentials.Certificate(service_account_info)\n",
    "firebase_admin.initialize_app(cred,{\n",
    "     'databaseURL': \"https://coffeeshop-app-8d2a6-default-rtdb.firebaseio.com/\"\n",
    "})"
   ]
  },
  {
   "cell_type": "markdown",
   "id": "85213aa9",
   "metadata": {},
   "source": [
    "<!-- # Upload Data -->"
   ]
  },
  {
   "cell_type": "code",
   "execution_count": 8,
   "id": "7e0c06e4",
   "metadata": {},
   "outputs": [],
   "source": [
    "products_collection = db.reference('products')"
   ]
  },
  {
   "cell_type": "code",
   "execution_count": null,
   "id": "5f98b7ed",
   "metadata": {},
   "outputs": [],
   "source": [
    "df = pd.read_json('products/products.jsonl',lines=True)\n",
    "df.head(2)"
   ]
  },
  {
   "cell_type": "code",
   "execution_count": null,
   "id": "4ea154a6",
   "metadata": {},
   "outputs": [],
   "source": [
    "from google.cloud import storage as g_storage\n",
    "storage_client = g_storage.Client()\n",
    "buckets = storage_client.list_buckets()\n",
    "\n",
    "for bucket in buckets:\n",
    "        print(bucket.name)"
   ]
  },
  {
   "cell_type": "markdown",
   "id": "9c8dc7fc",
   "metadata": {},
   "source": [
    "# Upload Data"
   ]
  },
  {
   "cell_type": "code",
   "execution_count": null,
   "id": "bc271df4",
   "metadata": {},
   "outputs": [],
   "source": [
    "def upload_image(bucket, image_path):\n",
    "    \"\"\"Uploads a file to the bucket.\"\"\"\n",
    "    image_name = image_path.split('/')[-1]\n",
    "    destination_blob_name = f'product_images/{image_name}'\n",
    "    blob = bucket.blob(destination_blob_name)\n",
    "\n",
    "    # generation_match_precondition = 0\n",
    "\n",
    "    blob.upload_from_filename(image_path)\n",
    "\n",
    "    # blob.make_public()\n",
    "    # return blob.public_url\n",
    "      # Return public URL (no signed URL needed)\n",
    "    public_url = f\"https://storage.googleapis.com/{bucket.name}/{destination_blob_name}\"\n",
    "    print(f\"🌐 Public URL: {public_url}\")\n",
    "    return public_url"
   ]
  },
  {
   "cell_type": "code",
   "execution_count": null,
   "id": "b25b64d1",
   "metadata": {},
   "outputs": [],
   "source": [
    "bucket = storage_client.bucket(\"cafe_proj\")\n",
    "\n",
    "\n",
    "for index, row in df.iterrows():\n",
    "    print(index, row['name'])\n",
    "    # this is where we want to store the image\n",
    "    image_folder_path = './products/images/'\n",
    "    image_path = os.path.join(image_folder_path,row['image_path'])\n",
    "    # returns the public url for the image \n",
    "    image_url = upload_image(bucket,image_path)\n",
    "\n",
    "    # Product for realtime fire database\n",
    "    product_data = row.to_dict()\n",
    "    product_data.pop('image_path')\n",
    "    product_data['image_url']= image_url\n",
    "    \n",
    "    # Add to Firestore\n",
    "    products_collection.push().set(product_data)"
   ]
  },
  {
   "cell_type": "code",
   "execution_count": null,
   "id": "881051e2",
   "metadata": {},
   "outputs": [],
   "source": [
    "\n",
    "    "
   ]
  },
  {
   "cell_type": "code",
   "execution_count": null,
   "id": "99c51593",
   "metadata": {},
   "outputs": [],
   "source": []
  },
  {
   "cell_type": "code",
   "execution_count": null,
   "id": "c08ca66a",
   "metadata": {},
   "outputs": [],
   "source": [
    "# def upload_image(bucket, image_path):\n",
    "#     image_name = image_path.split('/')[-1]\n",
    "#     blob = bucket.blob(f'product_images/{image_name}')\n",
    "#     # Upload image\n",
    "#     blob.upload_from_filename(image_path)\n",
    "#     # Make the image publicly accessible and get its URL\n",
    "#     blob.make_public()\n",
    "#     return blob.public_url"
   ]
  },
  {
   "cell_type": "code",
   "execution_count": 4,
   "id": "f5e70846",
   "metadata": {},
   "outputs": [],
   "source": [
    "# in YT"
   ]
  },
  {
   "cell_type": "code",
   "execution_count": null,
   "id": "1d98e9ec",
   "metadata": {},
   "outputs": [],
   "source": []
  }
 ],
 "metadata": {
  "kernelspec": {
   "display_name": "cafe-py3.13",
   "language": "python",
   "name": "python3"
  },
  "language_info": {
   "codemirror_mode": {
    "name": "ipython",
    "version": 3
   },
   "file_extension": ".py",
   "mimetype": "text/x-python",
   "name": "python",
   "nbconvert_exporter": "python",
   "pygments_lexer": "ipython3",
   "version": "3.13.3"
  }
 },
 "nbformat": 4,
 "nbformat_minor": 5
}
